{
 "cells": [
  {
   "cell_type": "code",
   "execution_count": 1,
   "metadata": {},
   "outputs": [],
   "source": [
    "import numpy as np\n",
    "import pandas as pd\n",
    "import matplotlib.pyplot as plt\n",
    "%matplotlib inline\n",
    "import seaborn as sns"
   ]
  },
  {
   "cell_type": "code",
   "execution_count": 2,
   "metadata": {},
   "outputs": [],
   "source": [
    "#pip install -U scikit-learn\n",
    "#from sklearn.datasets import make_regression\n",
    "from sklearn.model_selection import train_test_split\n",
    "#from sklearn.linear_model import LinearRegression"
   ]
  },
  {
   "cell_type": "code",
   "execution_count": 3,
   "metadata": {},
   "outputs": [],
   "source": [
    "from sklearn import feature_selection\n",
    "from sklearn.linear_model import LogisticRegression\n",
    "from sklearn import metrics\n",
    "from sklearn.metrics import accuracy_score"
   ]
  },
  {
   "cell_type": "code",
   "execution_count": 4,
   "metadata": {},
   "outputs": [],
   "source": [
    "from sklearn.metrics import classification_report, confusion_matrix"
   ]
  },
  {
   "cell_type": "code",
   "execution_count": 5,
   "metadata": {},
   "outputs": [],
   "source": [
    "nome_arq = 'Dados Titanic -  IA.xlsx'"
   ]
  },
  {
   "cell_type": "code",
   "execution_count": 6,
   "metadata": {},
   "outputs": [
    {
     "data": {
      "text/html": [
       "<div>\n",
       "<style scoped>\n",
       "    .dataframe tbody tr th:only-of-type {\n",
       "        vertical-align: middle;\n",
       "    }\n",
       "\n",
       "    .dataframe tbody tr th {\n",
       "        vertical-align: top;\n",
       "    }\n",
       "\n",
       "    .dataframe thead th {\n",
       "        text-align: right;\n",
       "    }\n",
       "</style>\n",
       "<table border=\"1\" class=\"dataframe\">\n",
       "  <thead>\n",
       "    <tr style=\"text-align: right;\">\n",
       "      <th></th>\n",
       "      <th>Passageiro</th>\n",
       "      <th>Sobrevivente</th>\n",
       "      <th>Classe</th>\n",
       "      <th>Nome</th>\n",
       "      <th>Sexo</th>\n",
       "      <th>Idade</th>\n",
       "      <th>Irmãos</th>\n",
       "      <th>Pais</th>\n",
       "      <th>Tarifa</th>\n",
       "    </tr>\n",
       "  </thead>\n",
       "  <tbody>\n",
       "    <tr>\n",
       "      <th>0</th>\n",
       "      <td>1</td>\n",
       "      <td>0</td>\n",
       "      <td>3</td>\n",
       "      <td>Braund, Mr. Owen Harris</td>\n",
       "      <td>masculino</td>\n",
       "      <td>22.0</td>\n",
       "      <td>1</td>\n",
       "      <td>0</td>\n",
       "      <td>7.25</td>\n",
       "    </tr>\n",
       "    <tr>\n",
       "      <th>1</th>\n",
       "      <td>2</td>\n",
       "      <td>1</td>\n",
       "      <td>1</td>\n",
       "      <td>Cumings, Mrs. John Bradley (Florence Briggs Th...</td>\n",
       "      <td>feminino</td>\n",
       "      <td>38.0</td>\n",
       "      <td>1</td>\n",
       "      <td>0</td>\n",
       "      <td>712833.00</td>\n",
       "    </tr>\n",
       "    <tr>\n",
       "      <th>2</th>\n",
       "      <td>3</td>\n",
       "      <td>1</td>\n",
       "      <td>3</td>\n",
       "      <td>Heikkinen, Miss. Laina</td>\n",
       "      <td>feminino</td>\n",
       "      <td>26.0</td>\n",
       "      <td>0</td>\n",
       "      <td>0</td>\n",
       "      <td>7925.00</td>\n",
       "    </tr>\n",
       "  </tbody>\n",
       "</table>\n",
       "</div>"
      ],
      "text/plain": [
       "   Passageiro  Sobrevivente  Classe  \\\n",
       "0           1             0       3   \n",
       "1           2             1       1   \n",
       "2           3             1       3   \n",
       "\n",
       "                                                Nome       Sexo  Idade  \\\n",
       "0                            Braund, Mr. Owen Harris  masculino   22.0   \n",
       "1  Cumings, Mrs. John Bradley (Florence Briggs Th...   feminino   38.0   \n",
       "2                             Heikkinen, Miss. Laina   feminino   26.0   \n",
       "\n",
       "   Irmãos  Pais     Tarifa  \n",
       "0       1     0       7.25  \n",
       "1       1     0  712833.00  \n",
       "2       0     0    7925.00  "
      ]
     },
     "execution_count": 6,
     "metadata": {},
     "output_type": "execute_result"
    }
   ],
   "source": [
    "df = pd.read_excel(nome_arq)\n",
    "df.head(3)"
   ]
  },
  {
   "cell_type": "code",
   "execution_count": null,
   "metadata": {},
   "outputs": [],
   "source": [
    "#df['Sexo'] = df.Sexo.map({'masculino':0, 'feminino':1}).astype(int)"
   ]
  },
  {
   "cell_type": "code",
   "execution_count": 7,
   "metadata": {},
   "outputs": [
    {
     "data": {
      "text/plain": [
       "Index(['Passageiro', 'Sobrevivente', 'Classe', 'Sexo', 'Idade', 'Irmãos',\n",
       "       'Pais', 'Tarifa'],\n",
       "      dtype='object')"
      ]
     },
     "execution_count": 7,
     "metadata": {},
     "output_type": "execute_result"
    }
   ],
   "source": [
    "df_quant = pd.concat([df.iloc[:,:3], df.iloc[:,4:9]], axis=1)\n",
    "df_quant.columns"
   ]
  },
  {
   "cell_type": "code",
   "execution_count": 8,
   "metadata": {},
   "outputs": [],
   "source": [
    "Sexo = pd.get_dummies(df_quant.Sexo, drop_first=True)\n",
    "df_quant.drop(columns='Sexo', inplace=True)\n",
    "df_quant = pd.concat([df_quant, Sexo], axis= 1)"
   ]
  },
  {
   "cell_type": "code",
   "execution_count": 9,
   "metadata": {},
   "outputs": [
    {
     "data": {
      "text/plain": [
       "Index(['Passageiro', 'Classe', 'Idade', 'Irmãos', 'Pais', 'Tarifa',\n",
       "       'masculino'],\n",
       "      dtype='object')"
      ]
     },
     "execution_count": 9,
     "metadata": {},
     "output_type": "execute_result"
    }
   ],
   "source": [
    "df_data = df_quant.drop(columns = 'Sobrevivente') # target\n",
    "df_data.columns"
   ]
  },
  {
   "cell_type": "code",
   "execution_count": 10,
   "metadata": {},
   "outputs": [
    {
     "data": {
      "text/plain": [
       "'Sobrevivente'"
      ]
     },
     "execution_count": 10,
     "metadata": {},
     "output_type": "execute_result"
    }
   ],
   "source": [
    "# target\n",
    "y = df.iloc[:,1]\n",
    "y_df = df[['Sobrevivente']]\n",
    "y.name"
   ]
  },
  {
   "cell_type": "markdown",
   "metadata": {},
   "source": [
    "## Análise de Correlação"
   ]
  },
  {
   "cell_type": "code",
   "execution_count": 11,
   "metadata": {},
   "outputs": [
    {
     "data": {
      "text/plain": [
       "<matplotlib.axes._subplots.AxesSubplot at 0x18bc951a4c8>"
      ]
     },
     "execution_count": 11,
     "metadata": {},
     "output_type": "execute_result"
    },
    {
     "data": {
      "image/png": "[encoded data removed]",
      "text/plain": [
       "<Figure size 576x576 with 2 Axes>"
      ]
     },
     "metadata": {
      "needs_background": "light"
     },
     "output_type": "display_data"
    }
   ],
   "source": [
    "fig, ax = plt.subplots(figsize=(8, 8)) \n",
    "mask = np.zeros_like(df_quant.corr().abs())\n",
    "mask[np.triu_indices_from(mask)] = 1\n",
    "sns.heatmap(df_quant.corr().abs(), mask= mask, ax= ax, cmap='coolwarm', annot= True)"
   ]
  },
  {
   "cell_type": "code",
   "execution_count": 13,
   "metadata": {},
   "outputs": [
    {
     "data": {
      "text/plain": [
       "<matplotlib.axes._subplots.AxesSubplot at 0x18bcb6a3908>"
      ]
     },
     "execution_count": 13,
     "metadata": {},
     "output_type": "execute_result"
    },
    {
     "data": {
      "image/png": "[encoded data removed]",
      "text/plain": [
       "<Figure size 432x288 with 1 Axes>"
      ]
     },
     "metadata": {
      "needs_background": "light"
     },
     "output_type": "display_data"
    }
   ],
   "source": [
    "sns.countplot('Sobrevivente', hue = 'Sexo', data=df)"
   ]
  },
  {
   "cell_type": "code",
   "execution_count": 14,
   "metadata": {},
   "outputs": [
    {
     "data": {
      "text/html": [
       "<div>\n",
       "<style scoped>\n",
       "    .dataframe tbody tr th:only-of-type {\n",
       "        vertical-align: middle;\n",
       "    }\n",
       "\n",
       "    .dataframe tbody tr th {\n",
       "        vertical-align: top;\n",
       "    }\n",
       "\n",
       "    .dataframe thead th {\n",
       "        text-align: right;\n",
       "    }\n",
       "</style>\n",
       "<table border=\"1\" class=\"dataframe\">\n",
       "  <thead>\n",
       "    <tr style=\"text-align: right;\">\n",
       "      <th></th>\n",
       "      <th>s0</th>\n",
       "      <th>s1</th>\n",
       "      <th>total</th>\n",
       "      <th>chance_1</th>\n",
       "    </tr>\n",
       "    <tr>\n",
       "      <th>Sexo</th>\n",
       "      <th></th>\n",
       "      <th></th>\n",
       "      <th></th>\n",
       "      <th></th>\n",
       "    </tr>\n",
       "  </thead>\n",
       "  <tbody>\n",
       "    <tr>\n",
       "      <th>feminino</th>\n",
       "      <td>64</td>\n",
       "      <td>197</td>\n",
       "      <td>261</td>\n",
       "      <td>3.078125</td>\n",
       "    </tr>\n",
       "    <tr>\n",
       "      <th>masculino</th>\n",
       "      <td>360</td>\n",
       "      <td>93</td>\n",
       "      <td>453</td>\n",
       "      <td>0.258333</td>\n",
       "    </tr>\n",
       "  </tbody>\n",
       "</table>\n",
       "</div>"
      ],
      "text/plain": [
       "            s0   s1  total  chance_1\n",
       "Sexo                                \n",
       "feminino    64  197    261  3.078125\n",
       "masculino  360   93    453  0.258333"
      ]
     },
     "execution_count": 14,
     "metadata": {},
     "output_type": "execute_result"
    }
   ],
   "source": [
    "p_chance = pd.pivot_table(df, index=['Sexo'], values=['Passageiro'], columns=['Sobrevivente'], aggfunc=['count'])\n",
    "chances = pd.DataFrame(p_chance.values, index=p_chance.index, columns=['s0','s1'])\n",
    "chances['total'] = chances.sum(1)\n",
    "chances['chance_1'] = chances.s1 / chances.s0\n",
    "chances"
   ]
  },
  {
   "cell_type": "code",
   "execution_count": 15,
   "metadata": {},
   "outputs": [
    {
     "name": "stdout",
     "output_type": "stream",
     "text": [
      "Chances (odds) de sobrevivência entre mulheres/homens = 11.91532258064516\n"
     ]
    }
   ],
   "source": [
    "print(f\"Chances (odds) de sobrevivência entre mulheres/homens = {chances.chance_1['feminino'] / chances.chance_1['masculino']}\")"
   ]
  },
  {
   "cell_type": "code",
   "execution_count": 16,
   "metadata": {},
   "outputs": [],
   "source": [
    "X = df_data.values\n",
    "y = y.values"
   ]
  },
  {
   "cell_type": "code",
   "execution_count": 17,
   "metadata": {},
   "outputs": [
    {
     "data": {
      "text/plain": [
       "LogisticRegression(C=1.0, class_weight=None, dual=False, fit_intercept=True,\n",
       "                   intercept_scaling=1, l1_ratio=None, max_iter=100,\n",
       "                   multi_class='auto', n_jobs=None, penalty='l2',\n",
       "                   random_state=None, solver='lbfgs', tol=0.0001, verbose=0,\n",
       "                   warm_start=False)"
      ]
     },
     "execution_count": 17,
     "metadata": {},
     "output_type": "execute_result"
    }
   ],
   "source": [
    "# instanciar\n",
    "lr = LogisticRegression()\n",
    "lr.fit(X, y)"
   ]
  },
  {
   "cell_type": "code",
   "execution_count": 18,
   "metadata": {},
   "outputs": [],
   "source": [
    "F, p_value = feature_selection.f_regression(X, y)"
   ]
  },
  {
   "cell_type": "code",
   "execution_count": 19,
   "metadata": {},
   "outputs": [
    {
     "name": "stdout",
     "output_type": "stream",
     "text": [
      "Intercepto: [-0.00041997]\n"
     ]
    }
   ],
   "source": [
    "print(f'Intercepto: {lr.intercept_}')"
   ]
  },
  {
   "cell_type": "code",
   "execution_count": 20,
   "metadata": {},
   "outputs": [],
   "source": [
    "def signif(p):\n",
    "    if  p < 0.001: return '***'\n",
    "    elif p < 0.01: return '**'\n",
    "    elif p < 0.05: return '*'\n",
    "    else: return 'not'"
   ]
  },
  {
   "cell_type": "code",
   "execution_count": 21,
   "metadata": {},
   "outputs": [
    {
     "data": {
      "text/html": [
       "<div>\n",
       "<style scoped>\n",
       "    .dataframe tbody tr th:only-of-type {\n",
       "        vertical-align: middle;\n",
       "    }\n",
       "\n",
       "    .dataframe tbody tr th {\n",
       "        vertical-align: top;\n",
       "    }\n",
       "\n",
       "    .dataframe thead th {\n",
       "        text-align: right;\n",
       "    }\n",
       "</style>\n",
       "<table border=\"1\" class=\"dataframe\">\n",
       "  <thead>\n",
       "    <tr style=\"text-align: right;\">\n",
       "      <th></th>\n",
       "      <th>coef</th>\n",
       "      <th>F</th>\n",
       "      <th>p_value</th>\n",
       "      <th>significativo</th>\n",
       "      <th>chance</th>\n",
       "      <th>1/chance</th>\n",
       "    </tr>\n",
       "  </thead>\n",
       "  <tbody>\n",
       "    <tr>\n",
       "      <th>masculino</th>\n",
       "      <td>-0.001616</td>\n",
       "      <td>291.287485</td>\n",
       "      <td>5.224710e-55</td>\n",
       "      <td>***</td>\n",
       "      <td>0.998385</td>\n",
       "      <td>1.001618</td>\n",
       "    </tr>\n",
       "    <tr>\n",
       "      <th>Classe</th>\n",
       "      <td>-0.002304</td>\n",
       "      <td>105.779868</td>\n",
       "      <td>3.162104e-23</td>\n",
       "      <td>***</td>\n",
       "      <td>0.997699</td>\n",
       "      <td>1.002306</td>\n",
       "    </tr>\n",
       "    <tr>\n",
       "      <th>Tarifa</th>\n",
       "      <td>0.000002</td>\n",
       "      <td>26.773741</td>\n",
       "      <td>2.977531e-07</td>\n",
       "      <td>***</td>\n",
       "      <td>1.000002</td>\n",
       "      <td>0.999998</td>\n",
       "    </tr>\n",
       "    <tr>\n",
       "      <th>Pais</th>\n",
       "      <td>0.000189</td>\n",
       "      <td>6.254607</td>\n",
       "      <td>1.261065e-02</td>\n",
       "      <td>*</td>\n",
       "      <td>1.000189</td>\n",
       "      <td>0.999811</td>\n",
       "    </tr>\n",
       "    <tr>\n",
       "      <th>Idade</th>\n",
       "      <td>-0.019752</td>\n",
       "      <td>4.271195</td>\n",
       "      <td>3.912465e-02</td>\n",
       "      <td>*</td>\n",
       "      <td>0.980442</td>\n",
       "      <td>1.019948</td>\n",
       "    </tr>\n",
       "    <tr>\n",
       "      <th>Passageiro</th>\n",
       "      <td>0.000089</td>\n",
       "      <td>0.613450</td>\n",
       "      <td>4.337524e-01</td>\n",
       "      <td>not</td>\n",
       "      <td>1.000089</td>\n",
       "      <td>0.999911</td>\n",
       "    </tr>\n",
       "    <tr>\n",
       "      <th>Irmãos</th>\n",
       "      <td>-0.000333</td>\n",
       "      <td>0.214599</td>\n",
       "      <td>6.433277e-01</td>\n",
       "      <td>not</td>\n",
       "      <td>0.999667</td>\n",
       "      <td>1.000333</td>\n",
       "    </tr>\n",
       "  </tbody>\n",
       "</table>\n",
       "</div>"
      ],
      "text/plain": [
       "                coef           F       p_value significativo    chance  \\\n",
       "masculino  -0.001616  291.287485  5.224710e-55           ***  0.998385   \n",
       "Classe     -0.002304  105.779868  3.162104e-23           ***  0.997699   \n",
       "Tarifa      0.000002   26.773741  2.977531e-07           ***  1.000002   \n",
       "Pais        0.000189    6.254607  1.261065e-02             *  1.000189   \n",
       "Idade      -0.019752    4.271195  3.912465e-02             *  0.980442   \n",
       "Passageiro  0.000089    0.613450  4.337524e-01           not  1.000089   \n",
       "Irmãos     -0.000333    0.214599  6.433277e-01           not  0.999667   \n",
       "\n",
       "            1/chance  \n",
       "masculino   1.001618  \n",
       "Classe      1.002306  \n",
       "Tarifa      0.999998  \n",
       "Pais        0.999811  \n",
       "Idade       1.019948  \n",
       "Passageiro  0.999911  \n",
       "Irmãos      1.000333  "
      ]
     },
     "execution_count": 21,
     "metadata": {},
     "output_type": "execute_result"
    }
   ],
   "source": [
    "d_df = {'coef':list(lr.coef_[0]), 'F': list(F), 'p_value': list(p_value)}\n",
    "dff = pd.DataFrame(d_df, index = df_data.columns)\n",
    "#dff.loc[dff.p_value < 0.05, 'significativo'] = True\n",
    "dff['significativo'] = dff['p_value'].map(signif)                  # aplica função a uma Series\n",
    "dff['chance'] = pd.Series(np.exp(dff.coef.values), df_data.columns)\n",
    "dff['1/chance'] = 1 / dff.chance\n",
    "dff.sort_values(['F'], ascending=False, inplace=True)\n",
    "dff"
   ]
  },
  {
   "cell_type": "code",
   "execution_count": 22,
   "metadata": {},
   "outputs": [
    {
     "name": "stdout",
     "output_type": "stream",
     "text": [
      "Score: 0.65406162464986\n"
     ]
    }
   ],
   "source": [
    "print(f'Score: {lr.score(X,y)}')"
   ]
  },
  {
   "cell_type": "markdown",
   "metadata": {},
   "source": [
    "## Escolha das variáveis"
   ]
  },
  {
   "cell_type": "code",
   "execution_count": 23,
   "metadata": {},
   "outputs": [
    {
     "data": {
      "text/plain": [
       "Index(['masculino', 'Classe'], dtype='object')"
      ]
     },
     "execution_count": 23,
     "metadata": {},
     "output_type": "execute_result"
    }
   ],
   "source": [
    "colunas = ['masculino', 'Classe']\n",
    "df_data = df_quant[colunas]\n",
    "df_data.columns"
   ]
  },
  {
   "cell_type": "code",
   "execution_count": 24,
   "metadata": {},
   "outputs": [
    {
     "data": {
      "text/plain": [
       "LogisticRegression(C=1.0, class_weight=None, dual=False, fit_intercept=True,\n",
       "                   intercept_scaling=1, l1_ratio=None, max_iter=100,\n",
       "                   multi_class='auto', n_jobs=None, penalty='l2',\n",
       "                   random_state=None, solver='lbfgs', tol=0.0001, verbose=0,\n",
       "                   warm_start=False)"
      ]
     },
     "execution_count": 24,
     "metadata": {},
     "output_type": "execute_result"
    }
   ],
   "source": [
    "X = df_data.values\n",
    "lr.fit(X, y)"
   ]
  },
  {
   "cell_type": "markdown",
   "metadata": {},
   "source": [
    "## Confusion Matrix\n",
    "* Termos associados à Confusion Matrix:\n",
    "    * **Verdadeiro Positivo** (TP): Quando o valor observado é True e o modelo estima como True. Ou seja, o modelo acertou na estimativa.\n",
    "        * Exemplo: O caso é uma Fraude e o modelo estima como Fraude.\n",
    "    * **Verdadeiro Negativo** (TN): Quando o valor observado é False e o modelo estima como False. Ou seja, o modelo acertou na estimativa;\n",
    "        * Exemplo: o caso é NÃO-Fraude e o modelo estima como NÃO-fraude;\n",
    "    * **Falso Positivo** (FP): Quando o valor observado é False e o modelo estima como True. Ou seja, o modelo errou na estimativa. \n",
    "        * Exemplo: Um caso de Não-Fraude, mas o modelo estima como Fraude.\n",
    "    * **Falso Negativo** (FN): Quando o valor observado é True e o modelo estima como False.\n",
    "        * Exemplo: o caso é Fraude e o modelo estima como NÃO-Fraude.\n",
    "\n",
    "* Consulte [Confusion matrix](https://scikit-learn.org/stable/auto_examples/model_selection/plot_confusion_matrix.html#sphx-glr-auto-examples-model-selection-plot-confusion-matrix-py)\n",
    "\n",
    "![ConfusionMatrix](https://github.com/MathMachado/Materials/blob/master/ConfusionMatrix.PNG?raw=true)\n",
    "\n",
    "Source: [Confusion Matrix](https://subscription.packtpub.com/book/big_data_and_business_intelligence/9781838555078/6/ch06lvl1sec34/confusion-matrix)"
   ]
  },
  {
   "cell_type": "markdown",
   "metadata": {},
   "source": [
    "## Accuracy\n",
    "> Accuracy - é o número de previsões corretas feitas pelo modelo.\n",
    "\n",
    "Responde à seguinte pergunta:\n",
    "\n",
    "```\n",
    "Com que frequência o classificador classifica corretamente?\n",
    "```\n",
    "\n",
    "$$Accuracy= \\frac{TP+TN}{TP+TN+FP+FN}$$"
   ]
  },
  {
   "cell_type": "markdown",
   "metadata": {},
   "source": [
    "## Precision\n",
    "> **Precision** - fornece informações sobre o desempenho em relação a Falsos Positivos (quantos capturamos).\n",
    "\n",
    "Responde à seguinte pergunta:\n",
    "\n",
    "```\n",
    "Com relação ao resultado Positivo, com que frequência o classificador está correto?\n",
    "```\n",
    "\n",
    "\n",
    "$$Precision= \\frac{TP}{TP+FP}$$\n",
    "\n",
    "**Exemplo**: Precison nos dirá a proporção de clientes que o modelo estimou como sendo Fraude quando, na verdade, são fraude.\n",
    "\n",
    "**Comentário**: Se nosso foco é minimizar Falso Negativos (FN), então precisamos nos esforçar para termos Recall próximo de 100%."
   ]
  },
  {
   "cell_type": "markdown",
   "metadata": {},
   "source": [
    "## Recall ou Sensitivity\n",
    "> **Recall** - nos fornece informações sobre o desempenho de um classificador em relação a Falsos Negativos (quantos perdemos).\n",
    "\n",
    "Responde à seguinte pergunta:\n",
    "\n",
    "```\n",
    "Quando o valor observado é Positivo, com que frequência o classificador está correto?\n",
    "```\n",
    "\n",
    "$$Recall = Sensitivity = \\frac{TP}{TP+FN}$$\n",
    "\n",
    "**Exemplo**: Recall é a proporção de clientes observados como Fraude e que o modelo estima como Fraude.\n",
    "\n",
    "**Comentário**: Se nosso foco for minimizar Falso Positivos (FP), então precisamos nos esforçar para fazer Precision mais próximo de 100% possível."
   ]
  },
  {
   "cell_type": "markdown",
   "metadata": {},
   "source": [
    "## Specificity\n",
    "> **Specificity** - proporção de TN por TN+FP.\n",
    "\n",
    "Responde à seguinte pergunta:\n",
    "\n",
    "```\n",
    "Quando o valor observado é Negativo, com que frequência o classificador está correto?\n",
    "```\n",
    "\n",
    "**Exemplo**: Specificity é a proporção de clientes NÃO-Fraude que o modelo estima como NÃO-Fraude.\n",
    "\n",
    "$$Specificity= \\frac{TN}{TN+FP}$$"
   ]
  },
  {
   "cell_type": "markdown",
   "metadata": {},
   "source": [
    "## F1-Score\n",
    "> F1-Score é a média harmônica entre Recall e Precision e é um número entre 0 e 1. Quanto mais próximo de 1, melhor. Quanto mais próximo de 0, pior. Ou seja, é um equilíbrio entre Recall e Precision.\n",
    "\n",
    "$$F1\\_Score= 2\\left(\\frac{Recall*Precision}{Recall+Precision}\\right)$$"
   ]
  },
  {
   "cell_type": "markdown",
   "metadata": {},
   "source": [
    "Função para plotar a Confusion Matrix extraído de [Confusion Matrix Visualization](https://medium.com/@dtuk81/confusion-matrix-visualization-fc31e3f30fea)"
   ]
  },
  {
   "cell_type": "code",
   "execution_count": 25,
   "metadata": {},
   "outputs": [],
   "source": [
    "def make_confusion_matrix(cf,\n",
    "                          group_names=None,\n",
    "                          categories='auto',\n",
    "                          count=True,\n",
    "                          percent=True,\n",
    "                          cbar=True,\n",
    "                          xyticks=False,\n",
    "                          xyplotlabels=True,\n",
    "                          sum_stats=True,\n",
    "                          figsize= (8,8),\n",
    "                          cmap='Blues'):\n",
    "    '''\n",
    "    This function will make a pretty plot of an sklearn Confusion Matrix cm using a Seaborn heatmap visualization.\n",
    "    Arguments\n",
    "    ---------\n",
    "    cf:            confusion matrix to be passed in\n",
    "    group_names:   List of strings that represent the labels row by row to be shown in each square.\n",
    "    categories:    List of strings containing the categories to be displayed on the x,y axis. Default is 'auto'\n",
    "    count:         If True, show the raw number in the confusion matrix. Default is True.\n",
    "    normalize:     If True, show the proportions for each category. Default is True.\n",
    "    cbar:          If True, show the color bar. The cbar values are based off the values in the confusion matrix.\n",
    "                   Default is True.\n",
    "    xyticks:       If True, show x and y ticks. Default is True.\n",
    "    xyplotlabels:  If True, show 'True Label' and 'Predicted Label' on the figure. Default is True.\n",
    "    sum_stats:     If True, display summary statistics below the figure. Default is True.\n",
    "    figsize:       Tuple representing the figure size. Default will be the matplotlib rcParams value.\n",
    "    cmap:          Colormap of the values displayed from matplotlib.pyplot.cm. Default is 'Blues'\n",
    "                   See http://matplotlib.org/examples/color/colormaps_reference.html\n",
    "    '''\n",
    "\n",
    "\n",
    "    # CODE TO GENERATE TEXT INSIDE EACH SQUARE\n",
    "    blanks = ['' for i in range(cf.size)]\n",
    "\n",
    "    if group_names and len(group_names)==cf.size:\n",
    "        group_labels = [\"{}\\n\".format(value) for value in group_names]\n",
    "    else:\n",
    "        group_labels = blanks\n",
    "\n",
    "    if count:\n",
    "        group_counts = [\"{0:0.0f}\\n\".format(value) for value in cf.flatten()]\n",
    "    else:\n",
    "        group_counts = blanks\n",
    "\n",
    "    if percent:\n",
    "        group_percentages = [\"{0:.2%}\".format(value) for value in cf.flatten()/np.sum(cf)]\n",
    "    else:\n",
    "        group_percentages = blanks\n",
    "\n",
    "    box_labels = [f\"{v1}{v2}{v3}\".strip() for v1, v2, v3 in zip(group_labels,group_counts,group_percentages)]\n",
    "    box_labels = np.asarray(box_labels).reshape(cf.shape[0],cf.shape[1])\n",
    "\n",
    "\n",
    "    # CODE TO GENERATE SUMMARY STATISTICS & TEXT FOR SUMMARY STATS\n",
    "    if sum_stats:\n",
    "        #Accuracy is sum of diagonal divided by total observations\n",
    "        accuracy  = np.trace(cf) / float(np.sum(cf))\n",
    "\n",
    "        #if it is a binary confusion matrix, show some more stats\n",
    "        if len(cf)==2:\n",
    "            #Metrics for Binary Confusion Matrices\n",
    "            precision = cf[1,1] / sum(cf[:,1])\n",
    "            recall    = cf[1,1] / sum(cf[1,:])\n",
    "            f1_score  = 2*precision*recall / (precision + recall)\n",
    "            stats_text = \"\\n\\nAccuracy={:0.3f}\\nPrecision={:0.3f}\\nRecall={:0.3f}\\nF1 Score={:0.3f}\".format(accuracy,precision,recall,f1_score)\n",
    "        else:\n",
    "            stats_text = \"\\n\\nAccuracy={:0.3f}\".format(accuracy)\n",
    "    else:\n",
    "        stats_text = \"\"\n",
    "\n",
    "\n",
    "    # SET FIGURE PARAMETERS ACCORDING TO OTHER ARGUMENTS\n",
    "    if figsize==None:\n",
    "        #Get default figure size if not set\n",
    "        figsize = plt.rcParams.get('figure.figsize')\n",
    "\n",
    "    if xyticks==False:\n",
    "        #Do not show categories if xyticks is False\n",
    "        categories=False\n",
    "\n",
    "\n",
    "    # MAKE THE HEATMAP VISUALIZATION\n",
    "    plt.figure(figsize=figsize)\n",
    "    sns.heatmap(cf,annot=box_labels,fmt=\"\",cmap=cmap,cbar=cbar,xticklabels=categories,yticklabels=categories)\n",
    "\n",
    "    if xyplotlabels:\n",
    "        plt.ylabel('True label')\n",
    "        plt.xlabel('Predicted label' + stats_text)\n",
    "    else:\n",
    "        plt.xlabel(stats_text)"
   ]
  },
  {
   "cell_type": "code",
   "execution_count": 26,
   "metadata": {},
   "outputs": [],
   "source": [
    "nr_testes = 0"
   ]
  },
  {
   "cell_type": "markdown",
   "metadata": {},
   "source": [
    "## Teste da acurácia com as Features"
   ]
  },
  {
   "cell_type": "code",
   "execution_count": 79,
   "metadata": {},
   "outputs": [],
   "source": [
    "# valores preditos de y\n",
    "y_pred = lr.predict(X)"
   ]
  },
  {
   "cell_type": "code",
   "execution_count": 80,
   "metadata": {},
   "outputs": [
    {
     "name": "stdout",
     "output_type": "stream",
     "text": [
      "r2: 0.2044729993493818\n"
     ]
    }
   ],
   "source": [
    "print(f'r2: {metrics.r2_score(y, y_pred)}')"
   ]
  },
  {
   "cell_type": "code",
   "execution_count": 81,
   "metadata": {},
   "outputs": [],
   "source": [
    "F, p_value = feature_selection.f_regression(X, y)"
   ]
  },
  {
   "cell_type": "code",
   "execution_count": 82,
   "metadata": {},
   "outputs": [
    {
     "name": "stdout",
     "output_type": "stream",
     "text": [
      "Intercepto: [5.38618934]\n"
     ]
    }
   ],
   "source": [
    "print(f'Intercepto: {lr.intercept_}')"
   ]
  },
  {
   "cell_type": "code",
   "execution_count": 83,
   "metadata": {},
   "outputs": [
    {
     "data": {
      "text/html": [
       "<div>\n",
       "<style scoped>\n",
       "    .dataframe tbody tr th:only-of-type {\n",
       "        vertical-align: middle;\n",
       "    }\n",
       "\n",
       "    .dataframe tbody tr th {\n",
       "        vertical-align: top;\n",
       "    }\n",
       "\n",
       "    .dataframe thead th {\n",
       "        text-align: right;\n",
       "    }\n",
       "</style>\n",
       "<table border=\"1\" class=\"dataframe\">\n",
       "  <thead>\n",
       "    <tr style=\"text-align: right;\">\n",
       "      <th></th>\n",
       "      <th>coef</th>\n",
       "      <th>F</th>\n",
       "      <th>p_value</th>\n",
       "      <th>significativo</th>\n",
       "      <th>chance</th>\n",
       "      <th>1/chance</th>\n",
       "    </tr>\n",
       "  </thead>\n",
       "  <tbody>\n",
       "    <tr>\n",
       "      <th>masculino</th>\n",
       "      <td>-2.500149</td>\n",
       "      <td>291.287485</td>\n",
       "      <td>5.224710e-55</td>\n",
       "      <td>***</td>\n",
       "      <td>0.082073</td>\n",
       "      <td>12.184310</td>\n",
       "    </tr>\n",
       "    <tr>\n",
       "      <th>Classe</th>\n",
       "      <td>-1.274194</td>\n",
       "      <td>105.779868</td>\n",
       "      <td>3.162104e-23</td>\n",
       "      <td>***</td>\n",
       "      <td>0.279656</td>\n",
       "      <td>3.575816</td>\n",
       "    </tr>\n",
       "    <tr>\n",
       "      <th>Idade</th>\n",
       "      <td>-0.043157</td>\n",
       "      <td>4.271195</td>\n",
       "      <td>3.912465e-02</td>\n",
       "      <td>*</td>\n",
       "      <td>0.957761</td>\n",
       "      <td>1.044102</td>\n",
       "    </tr>\n",
       "    <tr>\n",
       "      <th>Irmãos</th>\n",
       "      <td>-0.355041</td>\n",
       "      <td>0.214599</td>\n",
       "      <td>6.433277e-01</td>\n",
       "      <td>not</td>\n",
       "      <td>0.701144</td>\n",
       "      <td>1.426240</td>\n",
       "    </tr>\n",
       "  </tbody>\n",
       "</table>\n",
       "</div>"
      ],
      "text/plain": [
       "               coef           F       p_value significativo    chance  \\\n",
       "masculino -2.500149  291.287485  5.224710e-55           ***  0.082073   \n",
       "Classe    -1.274194  105.779868  3.162104e-23           ***  0.279656   \n",
       "Idade     -0.043157    4.271195  3.912465e-02             *  0.957761   \n",
       "Irmãos    -0.355041    0.214599  6.433277e-01           not  0.701144   \n",
       "\n",
       "            1/chance  \n",
       "masculino  12.184310  \n",
       "Classe      3.575816  \n",
       "Idade       1.044102  \n",
       "Irmãos      1.426240  "
      ]
     },
     "execution_count": 83,
     "metadata": {},
     "output_type": "execute_result"
    }
   ],
   "source": [
    "d_df = {'coef':list(lr.coef_[0]), 'F': list(F), 'p_value': list(p_value)}\n",
    "dfr = pd.DataFrame(d_df, index = df_data.columns)\n",
    "dfr['significativo'] = dfr['p_value'].map(signif)                  # aplica função a uma Series\n",
    "dfr['chance'] = pd.Series(np.exp(dfr.coef.values), df_data.columns)\n",
    "dfr['1/chance'] = 1 / dfr.chance\n",
    "dfr"
   ]
  },
  {
   "cell_type": "code",
   "execution_count": 84,
   "metadata": {},
   "outputs": [],
   "source": [
    "# coeficiente negativo: sexo masculino tem menos chance de sobrevivencia"
   ]
  },
  {
   "cell_type": "code",
   "execution_count": 85,
   "metadata": {},
   "outputs": [
    {
     "data": {
      "text/html": [
       "<div>\n",
       "<style scoped>\n",
       "    .dataframe tbody tr th:only-of-type {\n",
       "        vertical-align: middle;\n",
       "    }\n",
       "\n",
       "    .dataframe tbody tr th {\n",
       "        vertical-align: top;\n",
       "    }\n",
       "\n",
       "    .dataframe thead th {\n",
       "        text-align: right;\n",
       "    }\n",
       "</style>\n",
       "<table border=\"1\" class=\"dataframe\">\n",
       "  <thead>\n",
       "    <tr style=\"text-align: right;\">\n",
       "      <th></th>\n",
       "      <th>Features</th>\n",
       "      <th>Accuracy</th>\n",
       "      <th>F1-Score</th>\n",
       "    </tr>\n",
       "  </thead>\n",
       "  <tbody>\n",
       "    <tr>\n",
       "      <th>score</th>\n",
       "      <td>[masculino, Classe, Idade, Irmãos]</td>\n",
       "      <td>0.808123</td>\n",
       "      <td>0.755793</td>\n",
       "    </tr>\n",
       "  </tbody>\n",
       "</table>\n",
       "</div>"
      ],
      "text/plain": [
       "                                 Features  Accuracy  F1-Score\n",
       "score  [masculino, Classe, Idade, Irmãos]  0.808123  0.755793"
      ]
     },
     "execution_count": 85,
     "metadata": {},
     "output_type": "execute_result"
    }
   ],
   "source": [
    "# Accuracy = F-Score = lr.score(X,y)\n",
    "d_df = {'Features': [colunas],'Accuracy':metrics.accuracy_score(y, y_pred), 'F1-Score': metrics.f1_score(y, y_pred)}\n",
    "dfs = pd.DataFrame(d_df, index = ['score'])\n",
    "dfs"
   ]
  },
  {
   "cell_type": "code",
   "execution_count": 86,
   "metadata": {},
   "outputs": [],
   "source": [
    "a_features0 = np.array([colunas, metrics.accuracy_score(y, y_pred), metrics.f1_score(y, y_pred)])"
   ]
  },
  {
   "cell_type": "code",
   "execution_count": 89,
   "metadata": {},
   "outputs": [
    {
     "data": {
      "text/plain": [
       "array([1], dtype=int64)"
      ]
     },
     "execution_count": 89,
     "metadata": {},
     "output_type": "execute_result"
    }
   ],
   "source": [
    "# Predição\n",
    "lr.predict(np.array([[0,1,10,0]]))"
   ]
  },
  {
   "cell_type": "code",
   "execution_count": 92,
   "metadata": {},
   "outputs": [
    {
     "data": {
      "text/plain": [
       "array([[0.02459222, 0.97540778]])"
      ]
     },
     "execution_count": 92,
     "metadata": {},
     "output_type": "execute_result"
    }
   ],
   "source": [
    "# Probabilidade\n",
    "lr.predict_proba(np.array([[0,1,10,0]]))"
   ]
  },
  {
   "cell_type": "code",
   "execution_count": 74,
   "metadata": {},
   "outputs": [
    {
     "data": {
      "image/png": "[encoded data removed]",
      "text/plain": [
       "<Figure size 576x576 with 2 Axes>"
      ]
     },
     "metadata": {
      "needs_background": "light"
     },
     "output_type": "display_data"
    }
   ],
   "source": [
    "# Confusion Matrix\n",
    "cf_matrix = confusion_matrix(y_df, y_pred)                    #  editar y_test e y_pred\n",
    "cf_labels = ['True Neg','False Pos','False Neg','True Pos']\n",
    "cf_categories = ['Zero', 'One']\n",
    "make_confusion_matrix(cf_matrix, group_names= cf_labels, categories= cf_categories)"
   ]
  },
  {
   "cell_type": "code",
   "execution_count": 87,
   "metadata": {},
   "outputs": [],
   "source": [
    "if nr_testes == 0: \n",
    "    a_features = a_features0\n",
    "else:    \n",
    "    a_features = np.append(a_features, np.array([colunas, metrics.accuracy_score(y, y_pred), metrics.f1_score(y, y_pred)]))"
   ]
  },
  {
   "cell_type": "code",
   "execution_count": 88,
   "metadata": {},
   "outputs": [
    {
     "data": {
      "text/html": [
       "<div>\n",
       "<style scoped>\n",
       "    .dataframe tbody tr th:only-of-type {\n",
       "        vertical-align: middle;\n",
       "    }\n",
       "\n",
       "    .dataframe tbody tr th {\n",
       "        vertical-align: top;\n",
       "    }\n",
       "\n",
       "    .dataframe thead th {\n",
       "        text-align: right;\n",
       "    }\n",
       "</style>\n",
       "<table border=\"1\" class=\"dataframe\">\n",
       "  <thead>\n",
       "    <tr style=\"text-align: right;\">\n",
       "      <th></th>\n",
       "      <th>Features</th>\n",
       "      <th>Accuracy</th>\n",
       "      <th>F1-Score</th>\n",
       "    </tr>\n",
       "  </thead>\n",
       "  <tbody>\n",
       "    <tr>\n",
       "      <th>0</th>\n",
       "      <td>[masculino, Classe]</td>\n",
       "      <td>0.780112</td>\n",
       "      <td>0.715064</td>\n",
       "    </tr>\n",
       "    <tr>\n",
       "      <th>1</th>\n",
       "      <td>[masculino, Classe, Tarifa]</td>\n",
       "      <td>0.413165</td>\n",
       "      <td>0.579739</td>\n",
       "    </tr>\n",
       "    <tr>\n",
       "      <th>2</th>\n",
       "      <td>[masculino, Classe, Pais]</td>\n",
       "      <td>0.780112</td>\n",
       "      <td>0.715064</td>\n",
       "    </tr>\n",
       "    <tr>\n",
       "      <th>3</th>\n",
       "      <td>[masculino, Classe, Idade]</td>\n",
       "      <td>0.789916</td>\n",
       "      <td>0.734043</td>\n",
       "    </tr>\n",
       "    <tr>\n",
       "      <th>4</th>\n",
       "      <td>[masculino, Classe, Idade, Irmãos]</td>\n",
       "      <td>0.808123</td>\n",
       "      <td>0.755793</td>\n",
       "    </tr>\n",
       "  </tbody>\n",
       "</table>\n",
       "</div>"
      ],
      "text/plain": [
       "                             Features  Accuracy  F1-Score\n",
       "0                 [masculino, Classe]  0.780112  0.715064\n",
       "1         [masculino, Classe, Tarifa]  0.413165  0.579739\n",
       "2           [masculino, Classe, Pais]  0.780112  0.715064\n",
       "3          [masculino, Classe, Idade]  0.789916  0.734043\n",
       "4  [masculino, Classe, Idade, Irmãos]  0.808123  0.755793"
      ]
     },
     "execution_count": 88,
     "metadata": {},
     "output_type": "execute_result"
    }
   ],
   "source": [
    "features = pd.DataFrame(a_features.reshape(int(a_features.shape[0]/3),3), columns = ['Features', 'Accuracy', 'F1-Score'])\n",
    "nr_testes = features.shape[0]\n",
    "features"
   ]
  },
  {
   "cell_type": "code",
   "execution_count": 39,
   "metadata": {},
   "outputs": [
    {
     "data": {
      "text/html": [
       "<div>\n",
       "<style scoped>\n",
       "    .dataframe tbody tr th:only-of-type {\n",
       "        vertical-align: middle;\n",
       "    }\n",
       "\n",
       "    .dataframe tbody tr th {\n",
       "        vertical-align: top;\n",
       "    }\n",
       "\n",
       "    .dataframe thead th {\n",
       "        text-align: right;\n",
       "    }\n",
       "</style>\n",
       "<table border=\"1\" class=\"dataframe\">\n",
       "  <thead>\n",
       "    <tr style=\"text-align: right;\">\n",
       "      <th></th>\n",
       "      <th>coef</th>\n",
       "      <th>F</th>\n",
       "      <th>p_value</th>\n",
       "      <th>significativo</th>\n",
       "      <th>chance</th>\n",
       "      <th>1/chance</th>\n",
       "    </tr>\n",
       "  </thead>\n",
       "  <tbody>\n",
       "    <tr>\n",
       "      <th>masculino</th>\n",
       "      <td>-0.001616</td>\n",
       "      <td>291.287485</td>\n",
       "      <td>5.224710e-55</td>\n",
       "      <td>***</td>\n",
       "      <td>0.998385</td>\n",
       "      <td>1.001618</td>\n",
       "    </tr>\n",
       "    <tr>\n",
       "      <th>Classe</th>\n",
       "      <td>-0.002304</td>\n",
       "      <td>105.779868</td>\n",
       "      <td>3.162104e-23</td>\n",
       "      <td>***</td>\n",
       "      <td>0.997699</td>\n",
       "      <td>1.002306</td>\n",
       "    </tr>\n",
       "    <tr>\n",
       "      <th>Tarifa</th>\n",
       "      <td>0.000002</td>\n",
       "      <td>26.773741</td>\n",
       "      <td>2.977531e-07</td>\n",
       "      <td>***</td>\n",
       "      <td>1.000002</td>\n",
       "      <td>0.999998</td>\n",
       "    </tr>\n",
       "    <tr>\n",
       "      <th>Pais</th>\n",
       "      <td>0.000189</td>\n",
       "      <td>6.254607</td>\n",
       "      <td>1.261065e-02</td>\n",
       "      <td>*</td>\n",
       "      <td>1.000189</td>\n",
       "      <td>0.999811</td>\n",
       "    </tr>\n",
       "    <tr>\n",
       "      <th>Idade</th>\n",
       "      <td>-0.019752</td>\n",
       "      <td>4.271195</td>\n",
       "      <td>3.912465e-02</td>\n",
       "      <td>*</td>\n",
       "      <td>0.980442</td>\n",
       "      <td>1.019948</td>\n",
       "    </tr>\n",
       "    <tr>\n",
       "      <th>Passageiro</th>\n",
       "      <td>0.000089</td>\n",
       "      <td>0.613450</td>\n",
       "      <td>4.337524e-01</td>\n",
       "      <td>not</td>\n",
       "      <td>1.000089</td>\n",
       "      <td>0.999911</td>\n",
       "    </tr>\n",
       "    <tr>\n",
       "      <th>Irmãos</th>\n",
       "      <td>-0.000333</td>\n",
       "      <td>0.214599</td>\n",
       "      <td>6.433277e-01</td>\n",
       "      <td>not</td>\n",
       "      <td>0.999667</td>\n",
       "      <td>1.000333</td>\n",
       "    </tr>\n",
       "  </tbody>\n",
       "</table>\n",
       "</div>"
      ],
      "text/plain": [
       "                coef           F       p_value significativo    chance  \\\n",
       "masculino  -0.001616  291.287485  5.224710e-55           ***  0.998385   \n",
       "Classe     -0.002304  105.779868  3.162104e-23           ***  0.997699   \n",
       "Tarifa      0.000002   26.773741  2.977531e-07           ***  1.000002   \n",
       "Pais        0.000189    6.254607  1.261065e-02             *  1.000189   \n",
       "Idade      -0.019752    4.271195  3.912465e-02             *  0.980442   \n",
       "Passageiro  0.000089    0.613450  4.337524e-01           not  1.000089   \n",
       "Irmãos     -0.000333    0.214599  6.433277e-01           not  0.999667   \n",
       "\n",
       "            1/chance  \n",
       "masculino   1.001618  \n",
       "Classe      1.002306  \n",
       "Tarifa      0.999998  \n",
       "Pais        0.999811  \n",
       "Idade       1.019948  \n",
       "Passageiro  0.999911  \n",
       "Irmãos      1.000333  "
      ]
     },
     "execution_count": 39,
     "metadata": {},
     "output_type": "execute_result"
    }
   ],
   "source": [
    "# Lista das features para teste\n",
    "dff.sort_values(['F'], ascending=False)  # features"
   ]
  },
  {
   "cell_type": "code",
   "execution_count": 77,
   "metadata": {},
   "outputs": [
    {
     "data": {
      "text/plain": [
       "Index(['masculino', 'Classe', 'Idade', 'Irmãos'], dtype='object')"
      ]
     },
     "execution_count": 77,
     "metadata": {},
     "output_type": "execute_result"
    }
   ],
   "source": [
    "# Testes com outras features\n",
    "colunas = ['masculino', 'Classe', 'Idade', 'Irmãos']\n",
    "df_data = df_quant[colunas]\n",
    "df_data.columns"
   ]
  },
  {
   "cell_type": "code",
   "execution_count": 78,
   "metadata": {},
   "outputs": [
    {
     "data": {
      "text/plain": [
       "LogisticRegression(C=1.0, class_weight=None, dual=False, fit_intercept=True,\n",
       "                   intercept_scaling=1, l1_ratio=None, max_iter=100,\n",
       "                   multi_class='auto', n_jobs=None, penalty='l2',\n",
       "                   random_state=None, solver='lbfgs', tol=0.0001, verbose=0,\n",
       "                   warm_start=False)"
      ]
     },
     "execution_count": 78,
     "metadata": {},
     "output_type": "execute_result"
    }
   ],
   "source": [
    "X = df_data.values\n",
    "lr.fit(X, y)"
   ]
  },
  {
   "cell_type": "code",
   "execution_count": null,
   "metadata": {},
   "outputs": [],
   "source": [
    "# repetir Teste da Acurácia para comparar resultados"
   ]
  },
  {
   "cell_type": "code",
   "execution_count": null,
   "metadata": {},
   "outputs": [],
   "source": [
    "confusion_matrix = pd.crosstab(y, y_pred, rownames=['Actual'], colnames=['Predicted'])"
   ]
  },
  {
   "cell_type": "code",
   "execution_count": null,
   "metadata": {},
   "outputs": [],
   "source": [
    "sns.heatmap(confusion_matrix, annot=True)"
   ]
  },
  {
   "cell_type": "code",
   "execution_count": null,
   "metadata": {},
   "outputs": [],
   "source": []
  }
 ],
 "metadata": {
  "kernelspec": {
   "display_name": "Python 3",
   "language": "python",
   "name": "python3"
  },
  "language_info": {
   "codemirror_mode": {
    "name": "ipython",
    "version": 3
   },
   "file_extension": ".py",
   "mimetype": "text/x-python",
   "name": "python",
   "nbconvert_exporter": "python",
   "pygments_lexer": "ipython3",
   "version": "3.7.4"
  }
 },
 "nbformat": 4,
 "nbformat_minor": 2
}
