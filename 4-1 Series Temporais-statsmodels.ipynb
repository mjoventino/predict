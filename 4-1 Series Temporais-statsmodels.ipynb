{
 "cells": [
  {
   "cell_type": "markdown",
   "metadata": {},
   "source": [
    "\n",
    "## Time Series Analysis\n",
    "<https://www.analyticsvidhya.com/blog/2018/02/time-series-forecasting-methods/>\n",
    "### Modelos\n",
    "<https://www.statsmodels.org/stable/index.html>\n",
    "#### Previsão para 6 meses"
   ]
  },
  {
   "cell_type": "code",
   "execution_count": 1,
   "metadata": {},
   "outputs": [],
   "source": [
    "import pandas as pd\n",
    "import numpy as np"
   ]
  },
  {
   "cell_type": "code",
   "execution_count": null,
   "metadata": {},
   "outputs": [],
   "source": [
    "import matplotlib.pyplot as plt\n",
    "from pandas.plotting import register_matplotlib_converters\n",
    "register_matplotlib_converters()\n",
    "import seaborn as sns"
   ]
  },
  {
   "cell_type": "code",
   "execution_count": 2,
   "metadata": {},
   "outputs": [],
   "source": [
    "from statsmodels.tsa.api import SimpleExpSmoothing\n",
    "from statsmodels.tsa.api import Holt\n",
    "import statsmodels.tsa.api as tsa\n",
    "import pmdarima as pm"
   ]
  },
  {
   "cell_type": "code",
   "execution_count": 3,
   "metadata": {},
   "outputs": [],
   "source": [
    "import statsmodels.tools as tools\n",
    "from statsmodels.graphics.tsaplots import plot_acf, plot_pacf"
   ]
  },
  {
   "cell_type": "code",
   "execution_count": 8,
   "metadata": {},
   "outputs": [],
   "source": [
    "def mape(y_test, y_pred):                                        # mean absolute percentage error\n",
    "    return np.mean(np.abs((y_test - y_pred) / y_test)) * 100"
   ]
  },
  {
   "cell_type": "code",
   "execution_count": 4,
   "metadata": {},
   "outputs": [
    {
     "data": {
      "text/html": [
       "<div>\n",
       "<style scoped>\n",
       "    .dataframe tbody tr th:only-of-type {\n",
       "        vertical-align: middle;\n",
       "    }\n",
       "\n",
       "    .dataframe tbody tr th {\n",
       "        vertical-align: top;\n",
       "    }\n",
       "\n",
       "    .dataframe thead th {\n",
       "        text-align: right;\n",
       "    }\n",
       "</style>\n",
       "<table border=\"1\" class=\"dataframe\">\n",
       "  <thead>\n",
       "    <tr style=\"text-align: right;\">\n",
       "      <th></th>\n",
       "      <th>Mês</th>\n",
       "      <th>Comercio</th>\n",
       "      <th>Alimento</th>\n",
       "      <th>Metalurgia</th>\n",
       "    </tr>\n",
       "  </thead>\n",
       "  <tbody>\n",
       "    <tr>\n",
       "      <th>0</th>\n",
       "      <td>2003-01-01</td>\n",
       "      <td>322</td>\n",
       "      <td>53.5</td>\n",
       "      <td>44.2</td>\n",
       "    </tr>\n",
       "    <tr>\n",
       "      <th>1</th>\n",
       "      <td>2003-02-01</td>\n",
       "      <td>317</td>\n",
       "      <td>53.0</td>\n",
       "      <td>44.3</td>\n",
       "    </tr>\n",
       "    <tr>\n",
       "      <th>2</th>\n",
       "      <td>2003-03-01</td>\n",
       "      <td>319</td>\n",
       "      <td>53.2</td>\n",
       "      <td>44.4</td>\n",
       "    </tr>\n",
       "  </tbody>\n",
       "</table>\n",
       "</div>"
      ],
      "text/plain": [
       "         Mês  Comercio  Alimento  Metalurgia\n",
       "0 2003-01-01       322      53.5        44.2\n",
       "1 2003-02-01       317      53.0        44.3\n",
       "2 2003-03-01       319      53.2        44.4"
      ]
     },
     "execution_count": 4,
     "metadata": {},
     "output_type": "execute_result"
    }
   ],
   "source": [
    "nome_arq = 'Dados de Emprego_IA.xlsx'\n",
    "dfi = pd.read_excel(nome_arq)\n",
    "dfi.head(3)"
   ]
  },
  {
   "cell_type": "code",
   "execution_count": 5,
   "metadata": {},
   "outputs": [
    {
     "data": {
      "text/plain": [
       "(60, 2)"
      ]
     },
     "execution_count": 5,
     "metadata": {},
     "output_type": "execute_result"
    }
   ],
   "source": [
    "df = dfi[['Mês', 'Metalurgia']].copy()\n",
    "df.shape"
   ]
  },
  {
   "cell_type": "code",
   "execution_count": 6,
   "metadata": {},
   "outputs": [
    {
     "data": {
      "text/html": [
       "<div>\n",
       "<style scoped>\n",
       "    .dataframe tbody tr th:only-of-type {\n",
       "        vertical-align: middle;\n",
       "    }\n",
       "\n",
       "    .dataframe tbody tr th {\n",
       "        vertical-align: top;\n",
       "    }\n",
       "\n",
       "    .dataframe thead th {\n",
       "        text-align: right;\n",
       "    }\n",
       "</style>\n",
       "<table border=\"1\" class=\"dataframe\">\n",
       "  <thead>\n",
       "    <tr style=\"text-align: right;\">\n",
       "      <th></th>\n",
       "      <th>mes</th>\n",
       "      <th>metal</th>\n",
       "    </tr>\n",
       "  </thead>\n",
       "  <tbody>\n",
       "    <tr>\n",
       "      <th>57</th>\n",
       "      <td>2007-10-01</td>\n",
       "      <td>50.3</td>\n",
       "    </tr>\n",
       "    <tr>\n",
       "      <th>58</th>\n",
       "      <td>2007-11-01</td>\n",
       "      <td>49.2</td>\n",
       "    </tr>\n",
       "    <tr>\n",
       "      <th>59</th>\n",
       "      <td>2007-12-01</td>\n",
       "      <td>48.1</td>\n",
       "    </tr>\n",
       "  </tbody>\n",
       "</table>\n",
       "</div>"
      ],
      "text/plain": [
       "          mes  metal\n",
       "57 2007-10-01   50.3\n",
       "58 2007-11-01   49.2\n",
       "59 2007-12-01   48.1"
      ]
     },
     "execution_count": 6,
     "metadata": {},
     "output_type": "execute_result"
    }
   ],
   "source": [
    "df.rename(columns= {'Mês': 'mes', 'Metalurgia': 'metal'}, inplace=True)\n",
    "df.tail(3)"
   ]
  },
  {
   "cell_type": "code",
   "execution_count": 7,
   "metadata": {},
   "outputs": [
    {
     "data": {
      "text/html": [
       "<div>\n",
       "<style scoped>\n",
       "    .dataframe tbody tr th:only-of-type {\n",
       "        vertical-align: middle;\n",
       "    }\n",
       "\n",
       "    .dataframe tbody tr th {\n",
       "        vertical-align: top;\n",
       "    }\n",
       "\n",
       "    .dataframe thead th {\n",
       "        text-align: right;\n",
       "    }\n",
       "</style>\n",
       "<table border=\"1\" class=\"dataframe\">\n",
       "  <thead>\n",
       "    <tr style=\"text-align: right;\">\n",
       "      <th></th>\n",
       "      <th>mes</th>\n",
       "      <th>metal</th>\n",
       "    </tr>\n",
       "    <tr>\n",
       "      <th>mes</th>\n",
       "      <th></th>\n",
       "      <th></th>\n",
       "    </tr>\n",
       "  </thead>\n",
       "  <tbody>\n",
       "    <tr>\n",
       "      <th>2003-01-01</th>\n",
       "      <td>2003-01-01</td>\n",
       "      <td>44.2</td>\n",
       "    </tr>\n",
       "    <tr>\n",
       "      <th>2003-02-01</th>\n",
       "      <td>2003-02-01</td>\n",
       "      <td>44.3</td>\n",
       "    </tr>\n",
       "  </tbody>\n",
       "</table>\n",
       "</div>"
      ],
      "text/plain": [
       "                  mes  metal\n",
       "mes                         \n",
       "2003-01-01 2003-01-01   44.2\n",
       "2003-02-01 2003-02-01   44.3"
      ]
     },
     "execution_count": 7,
     "metadata": {},
     "output_type": "execute_result"
    }
   ],
   "source": [
    "df.index = pd.to_datetime(df.mes, format='%Y-%m-%d')\n",
    "df.head(2)"
   ]
  },
  {
   "cell_type": "code",
   "execution_count": 9,
   "metadata": {},
   "outputs": [],
   "source": [
    "# previsão 6 meses\n",
    "train = df.iloc[:-6].copy()   # df.loc[df.ano < 2007]\n",
    "test =  df.iloc[-6:].copy()  # df.loc[df.ano == 2007]"
   ]
  },
  {
   "cell_type": "code",
   "execution_count": 13,
   "metadata": {},
   "outputs": [
    {
     "data": {
      "text/plain": [
       "Text(0.5, 1.0, 'Metalurgia')"
      ]
     },
     "execution_count": 13,
     "metadata": {},
     "output_type": "execute_result"
    },
    {
     "data": {
      "image/png": "[encoded data removed]",
      "text/plain": [
       "<Figure size 1080x360 with 1 Axes>"
      ]
     },
     "metadata": {
      "needs_background": "light"
     },
     "output_type": "display_data"
    }
   ],
   "source": [
    "col_data = 'metal'\n",
    "fig, ax = plt.subplots(figsize=(15,5))\n",
    "ax.plot(train[col_data], label= 'Train')\n",
    "ax.plot(test[col_data], label = 'Test')\n",
    "ax.set_title('Metalurgia')"
   ]
  },
  {
   "cell_type": "markdown",
   "metadata": {},
   "source": [
    "## Moving Avarage - Média Móvel"
   ]
  },
  {
   "cell_type": "code",
   "execution_count": 14,
   "metadata": {},
   "outputs": [],
   "source": [
    "#y_hat_avg['pred_mm'] = train.metal.rolling(3).mean().iloc[-1]\n",
    "test['pred_ma'] = train[col_data].rolling(3).mean().iloc[-1]"
   ]
  },
  {
   "cell_type": "code",
   "execution_count": 15,
   "metadata": {},
   "outputs": [
    {
     "data": {
      "text/html": [
       "<div>\n",
       "<style scoped>\n",
       "    .dataframe tbody tr th:only-of-type {\n",
       "        vertical-align: middle;\n",
       "    }\n",
       "\n",
       "    .dataframe tbody tr th {\n",
       "        vertical-align: top;\n",
       "    }\n",
       "\n",
       "    .dataframe thead th {\n",
       "        text-align: right;\n",
       "    }\n",
       "</style>\n",
       "<table border=\"1\" class=\"dataframe\">\n",
       "  <thead>\n",
       "    <tr style=\"text-align: right;\">\n",
       "      <th></th>\n",
       "      <th>mes</th>\n",
       "      <th>metal</th>\n",
       "      <th>pred_ma</th>\n",
       "    </tr>\n",
       "    <tr>\n",
       "      <th>mes</th>\n",
       "      <th></th>\n",
       "      <th></th>\n",
       "      <th></th>\n",
       "    </tr>\n",
       "  </thead>\n",
       "  <tbody>\n",
       "    <tr>\n",
       "      <th>2007-07-01</th>\n",
       "      <td>2007-07-01</td>\n",
       "      <td>50.5</td>\n",
       "      <td>50.766667</td>\n",
       "    </tr>\n",
       "    <tr>\n",
       "      <th>2007-08-01</th>\n",
       "      <td>2007-08-01</td>\n",
       "      <td>51.2</td>\n",
       "      <td>50.766667</td>\n",
       "    </tr>\n",
       "    <tr>\n",
       "      <th>2007-09-01</th>\n",
       "      <td>2007-09-01</td>\n",
       "      <td>50.7</td>\n",
       "      <td>50.766667</td>\n",
       "    </tr>\n",
       "    <tr>\n",
       "      <th>2007-10-01</th>\n",
       "      <td>2007-10-01</td>\n",
       "      <td>50.3</td>\n",
       "      <td>50.766667</td>\n",
       "    </tr>\n",
       "    <tr>\n",
       "      <th>2007-11-01</th>\n",
       "      <td>2007-11-01</td>\n",
       "      <td>49.2</td>\n",
       "      <td>50.766667</td>\n",
       "    </tr>\n",
       "  </tbody>\n",
       "</table>\n",
       "</div>"
      ],
      "text/plain": [
       "                  mes  metal    pred_ma\n",
       "mes                                    \n",
       "2007-07-01 2007-07-01   50.5  50.766667\n",
       "2007-08-01 2007-08-01   51.2  50.766667\n",
       "2007-09-01 2007-09-01   50.7  50.766667\n",
       "2007-10-01 2007-10-01   50.3  50.766667\n",
       "2007-11-01 2007-11-01   49.2  50.766667"
      ]
     },
     "execution_count": 15,
     "metadata": {},
     "output_type": "execute_result"
    }
   ],
   "source": [
    "test.head()"
   ]
  },
  {
   "cell_type": "code",
   "execution_count": 16,
   "metadata": {},
   "outputs": [
    {
     "data": {
      "text/html": [
       "<div>\n",
       "<style scoped>\n",
       "    .dataframe tbody tr th:only-of-type {\n",
       "        vertical-align: middle;\n",
       "    }\n",
       "\n",
       "    .dataframe tbody tr th {\n",
       "        vertical-align: top;\n",
       "    }\n",
       "\n",
       "    .dataframe thead th {\n",
       "        text-align: right;\n",
       "    }\n",
       "</style>\n",
       "<table border=\"1\" class=\"dataframe\">\n",
       "  <thead>\n",
       "    <tr style=\"text-align: right;\">\n",
       "      <th></th>\n",
       "      <th>mes</th>\n",
       "      <th>metal</th>\n",
       "      <th>ma3</th>\n",
       "    </tr>\n",
       "    <tr>\n",
       "      <th>mes</th>\n",
       "      <th></th>\n",
       "      <th></th>\n",
       "      <th></th>\n",
       "    </tr>\n",
       "  </thead>\n",
       "  <tbody>\n",
       "    <tr>\n",
       "      <th>2007-04-01</th>\n",
       "      <td>2007-04-01</td>\n",
       "      <td>50.7</td>\n",
       "      <td>50.066667</td>\n",
       "    </tr>\n",
       "    <tr>\n",
       "      <th>2007-05-01</th>\n",
       "      <td>2007-05-01</td>\n",
       "      <td>50.7</td>\n",
       "      <td>50.333333</td>\n",
       "    </tr>\n",
       "    <tr>\n",
       "      <th>2007-06-01</th>\n",
       "      <td>2007-06-01</td>\n",
       "      <td>50.9</td>\n",
       "      <td>50.766667</td>\n",
       "    </tr>\n",
       "  </tbody>\n",
       "</table>\n",
       "</div>"
      ],
      "text/plain": [
       "                  mes  metal        ma3\n",
       "mes                                    \n",
       "2007-04-01 2007-04-01   50.7  50.066667\n",
       "2007-05-01 2007-05-01   50.7  50.333333\n",
       "2007-06-01 2007-06-01   50.9  50.766667"
      ]
     },
     "execution_count": 16,
     "metadata": {},
     "output_type": "execute_result"
    }
   ],
   "source": [
    "train['ma3'] = df[col_data].rolling(3).mean()\n",
    "train.tail(3)"
   ]
  },
  {
   "cell_type": "code",
   "execution_count": 17,
   "metadata": {},
   "outputs": [
    {
     "data": {
      "text/plain": [
       "<matplotlib.legend.Legend at 0x1d4b9c2aa08>"
      ]
     },
     "execution_count": 17,
     "metadata": {},
     "output_type": "execute_result"
    },
    {
     "data": {
      "image/png": "[encoded data removed]",
      "text/plain": [
       "<Figure size 1080x360 with 1 Axes>"
      ]
     },
     "metadata": {
      "needs_background": "light"
     },
     "output_type": "display_data"
    }
   ],
   "source": [
    "fig, ax = plt.subplots(figsize=(15,5))\n",
    "ax.plot(train[col_data], label= 'Train')\n",
    "ax.plot(test[col_data], label= 'Test')\n",
    "ax.plot(test.pred_ma, label= 'Moving Avarage Forecast')\n",
    "ax.set_title('Moving Avarage Forecast')\n",
    "ax.legend(loc= 'best')"
   ]
  },
  {
   "cell_type": "code",
   "execution_count": 23,
   "metadata": {},
   "outputs": [
    {
     "data": {
      "text/html": [
       "<div>\n",
       "<style scoped>\n",
       "    .dataframe tbody tr th:only-of-type {\n",
       "        vertical-align: middle;\n",
       "    }\n",
       "\n",
       "    .dataframe tbody tr th {\n",
       "        vertical-align: top;\n",
       "    }\n",
       "\n",
       "    .dataframe thead th {\n",
       "        text-align: right;\n",
       "    }\n",
       "</style>\n",
       "<table border=\"1\" class=\"dataframe\">\n",
       "  <thead>\n",
       "    <tr style=\"text-align: right;\">\n",
       "      <th></th>\n",
       "      <th>MSE</th>\n",
       "      <th>MAPE</th>\n",
       "    </tr>\n",
       "  </thead>\n",
       "  <tbody>\n",
       "    <tr>\n",
       "      <th>moving avarage</th>\n",
       "      <td>1.674444</td>\n",
       "      <td>1.860326</td>\n",
       "    </tr>\n",
       "  </tbody>\n",
       "</table>\n",
       "</div>"
      ],
      "text/plain": [
       "                     MSE      MAPE\n",
       "moving avarage  1.674444  1.860326"
      ]
     },
     "execution_count": 23,
     "metadata": {},
     "output_type": "execute_result"
    }
   ],
   "source": [
    "d = dict(MSE = tools.eval_measures.mse(test[col_data], test.pred_ma, axis=0), MAPE= mape(test[col_data], test['pred_ma']))\n",
    "cresults = pd.DataFrame(data= d, index= ['moving avarage'])\n",
    "cresults"
   ]
  },
  {
   "cell_type": "markdown",
   "metadata": {},
   "source": [
    "## Simple Exponential Smoothing - suavização exponecial simples \n",
    "<https://www.analyticsvidhya.com/blog/2018/02/time-series-forecasting-methods/."
   ]
  },
  {
   "cell_type": "code",
   "execution_count": 58,
   "metadata": {},
   "outputs": [],
   "source": [
    "#pip install --upgrade pip\n",
    "#pip install -U statsmodels\n",
    "# smoothing level (alfa) = 0 (avarage method)\n",
    "# smoothing  level = 1 (last observation = Naive method)"
   ]
  },
  {
   "cell_type": "code",
   "execution_count": 27,
   "metadata": {},
   "outputs": [],
   "source": [
    "col_pred1 = 'SES1'\n",
    "fit1 = SimpleExpSmoothing(np.asarray(train[col_data])).fit(smoothing_level=0.2,optimized=False)\n",
    "test[col_pred1] = fit1.forecast(len(test))\n",
    "d = dict(MSE= tools.eval_measures.mse(test[col_data], test[col_pred1], axis=0),\n",
    "        MAPE= mape(test[col_data], test[col_pred1]),\n",
    "        AIC= fit1.aic)\n",
    "results= pd.DataFrame(data= d, index=[col_pred1])"
   ]
  },
  {
   "cell_type": "code",
   "execution_count": 28,
   "metadata": {},
   "outputs": [],
   "source": [
    "col_pred2 = 'SES2'\n",
    "fit2 = SimpleExpSmoothing(np.asarray(train[col_data])).fit(smoothing_level=0.6,optimized=False)\n",
    "test[col_pred2] = fit2.forecast(len(test))\n",
    "results.loc[col_pred2] = pd.Series([tools.eval_measures.mse(test[col_data], test[col_pred2], axis=0), \n",
    "                                    mape(test[col_data], test[col_pred2]),\n",
    "                                   fit1.aic], \n",
    "                                   ['MSE', 'MAPE', 'AIC'])"
   ]
  },
  {
   "cell_type": "code",
   "execution_count": 29,
   "metadata": {},
   "outputs": [
    {
     "name": "stderr",
     "output_type": "stream",
     "text": [
      "c:\\users\\marce\\appdata\\local\\programs\\python\\python37\\lib\\site-packages\\statsmodels\\tsa\\holtwinters.py:731: RuntimeWarning: invalid value encountered in greater_equal\n",
      "  loc = initial_p >= ub\n"
     ]
    },
    {
     "data": {
      "text/html": [
       "<div>\n",
       "<style scoped>\n",
       "    .dataframe tbody tr th:only-of-type {\n",
       "        vertical-align: middle;\n",
       "    }\n",
       "\n",
       "    .dataframe tbody tr th {\n",
       "        vertical-align: top;\n",
       "    }\n",
       "\n",
       "    .dataframe thead th {\n",
       "        text-align: right;\n",
       "    }\n",
       "</style>\n",
       "<table border=\"1\" class=\"dataframe\">\n",
       "  <thead>\n",
       "    <tr style=\"text-align: right;\">\n",
       "      <th></th>\n",
       "      <th>MSE</th>\n",
       "      <th>MAPE</th>\n",
       "      <th>AIC</th>\n",
       "    </tr>\n",
       "  </thead>\n",
       "  <tbody>\n",
       "    <tr>\n",
       "      <th>SES1</th>\n",
       "      <td>1.088592</td>\n",
       "      <td>1.842169</td>\n",
       "      <td>25.45855</td>\n",
       "    </tr>\n",
       "    <tr>\n",
       "      <th>SES2</th>\n",
       "      <td>1.657147</td>\n",
       "      <td>1.844984</td>\n",
       "      <td>25.45855</td>\n",
       "    </tr>\n",
       "    <tr>\n",
       "      <th>SES3</th>\n",
       "      <td>1.896667</td>\n",
       "      <td>2.040305</td>\n",
       "      <td>25.45855</td>\n",
       "    </tr>\n",
       "  </tbody>\n",
       "</table>\n",
       "</div>"
      ],
      "text/plain": [
       "           MSE      MAPE       AIC\n",
       "SES1  1.088592  1.842169  25.45855\n",
       "SES2  1.657147  1.844984  25.45855\n",
       "SES3  1.896667  2.040305  25.45855"
      ]
     },
     "execution_count": 29,
     "metadata": {},
     "output_type": "execute_result"
    }
   ],
   "source": [
    "col_pred3= 'SES3'\n",
    "fit3 = SimpleExpSmoothing(np.asarray(train[col_data])).fit(optimized=True)\n",
    "test[col_pred3] = fit3.forecast(len(test))\n",
    "results.loc[col_pred3] = pd.Series([tools.eval_measures.mse(test[col_data], test[col_pred3], axis=0), \n",
    "                                    mape(test[col_data], test[col_pred3]),\n",
    "                                   fit1.aic], \n",
    "                                   ['MSE', 'MAPE', 'AIC'])\n",
    "results"
   ]
  },
  {
   "cell_type": "code",
   "execution_count": 31,
   "metadata": {},
   "outputs": [
    {
     "name": "stdout",
     "output_type": "stream",
     "text": [
      "                       SimpleExpSmoothing Model Results                       \n",
      "==============================================================================\n",
      "Dep. Variable:                  endog   No. Observations:                   54\n",
      "Model:             SimpleExpSmoothing   SSE                             80.348\n",
      "Optimized:                      False   AIC                             25.459\n",
      "Trend:                           None   BIC                             29.437\n",
      "Seasonal:                        None   AICC                            26.275\n",
      "Seasonal Periods:                None   Date:                 Sun, 26 Apr 2020\n",
      "Box-Cox:                        False   Time:                         09:16:29\n",
      "Box-Cox Coeff.:                  None                                         \n",
      "==============================================================================\n",
      "                       coeff                 code              optimized      \n",
      "------------------------------------------------------------------------------\n",
      "smoothing_level            0.2000000                alpha                False\n",
      "initial_level              44.200000                  l.0                False\n",
      "------------------------------------------------------------------------------\n"
     ]
    }
   ],
   "source": [
    "print(fit1.summary())"
   ]
  },
  {
   "cell_type": "code",
   "execution_count": 30,
   "metadata": {},
   "outputs": [
    {
     "data": {
      "text/plain": [
       "<matplotlib.legend.Legend at 0x1d4b9c078c8>"
      ]
     },
     "execution_count": 30,
     "metadata": {},
     "output_type": "execute_result"
    },
    {
     "data": {
      "image/png": "[encoded data removed]",
      "text/plain": [
       "<Figure size 1080x360 with 1 Axes>"
      ]
     },
     "metadata": {
      "needs_background": "light"
     },
     "output_type": "display_data"
    }
   ],
   "source": [
    "fig, ax = plt.subplots(figsize=(15,5))\n",
    "ax.plot(train[col_data], label= 'Train')\n",
    "ax.plot(test[col_data], label= 'Test')\n",
    "ax.plot(test[col_pred1], label= col_pred1)\n",
    "ax.set_title('Simple Exponential Smmothing')\n",
    "ax.legend(loc= 'best')"
   ]
  },
  {
   "cell_type": "code",
   "execution_count": 32,
   "metadata": {},
   "outputs": [
    {
     "data": {
      "text/html": [
       "<div>\n",
       "<style scoped>\n",
       "    .dataframe tbody tr th:only-of-type {\n",
       "        vertical-align: middle;\n",
       "    }\n",
       "\n",
       "    .dataframe tbody tr th {\n",
       "        vertical-align: top;\n",
       "    }\n",
       "\n",
       "    .dataframe thead th {\n",
       "        text-align: right;\n",
       "    }\n",
       "</style>\n",
       "<table border=\"1\" class=\"dataframe\">\n",
       "  <thead>\n",
       "    <tr style=\"text-align: right;\">\n",
       "      <th></th>\n",
       "      <th>MSE</th>\n",
       "      <th>MAPE</th>\n",
       "    </tr>\n",
       "  </thead>\n",
       "  <tbody>\n",
       "    <tr>\n",
       "      <th>moving avarage</th>\n",
       "      <td>1.674444</td>\n",
       "      <td>1.860326</td>\n",
       "    </tr>\n",
       "    <tr>\n",
       "      <th>SES1</th>\n",
       "      <td>1.088592</td>\n",
       "      <td>1.842169</td>\n",
       "    </tr>\n",
       "  </tbody>\n",
       "</table>\n",
       "</div>"
      ],
      "text/plain": [
       "                     MSE      MAPE\n",
       "moving avarage  1.674444  1.860326\n",
       "SES1            1.088592  1.842169"
      ]
     },
     "execution_count": 32,
     "metadata": {},
     "output_type": "execute_result"
    }
   ],
   "source": [
    "cresults.loc[col_pred1] = pd.Series([tools.eval_measures.mse(test[col_data], test[col_pred1], axis=0), \n",
    "                                    mape(test[col_data], test[col_pred1])], \n",
    "                                   ['MSE', 'MAPE'])\n",
    "cresults"
   ]
  },
  {
   "cell_type": "markdown",
   "metadata": {},
   "source": [
    "## Holt's Linear Trend method - Holt com tendência - Suavização Exponencial Dupla\n",
    "<https://www.analyticsvidhya.com/blog/2018/02/time-series-forecasting-methods/> <br>\n",
    "<https://medium.com/datadriveninvestor/how-to-build-exponential-smoothing-models-using-python-simple-exponential-smoothing-holt-and-da371189e1a1> <br>\n",
    "<https://www.statsmodels.org/stable/generated/statsmodels.tsa.holtwinters.Holt.html>"
   ]
  },
  {
   "cell_type": "code",
   "execution_count": 65,
   "metadata": {},
   "outputs": [],
   "source": [
    "#from statsmodels.tsa.api import Holt"
   ]
  },
  {
   "cell_type": "markdown",
   "metadata": {},
   "source": [
    "- smoothing level (alfa) = 0 (avarage method)\n",
    "- smoothing  level = 1 (last observation = Naive method)\n",
    "- test optimized / 0.2 / 0.8\n",
    "- smoothing_slope: trend smoothing parameter: For long-term forecast, forecasting with Holt’s method will increase or decrease indefinitely into the future\n",
    "- damped: trend method which has a damping parameter 0< ϕ <1 to prevent the forecast “go wild”."
   ]
  },
  {
   "cell_type": "code",
   "execution_count": 51,
   "metadata": {},
   "outputs": [
    {
     "name": "stderr",
     "output_type": "stream",
     "text": [
      "c:\\users\\marce\\appdata\\local\\programs\\python\\python37\\lib\\site-packages\\statsmodels\\tsa\\holtwinters.py:731: RuntimeWarning: invalid value encountered in greater_equal\n",
      "  loc = initial_p >= ub\n"
     ]
    }
   ],
   "source": [
    "col_pred1 = 'Holt1'\n",
    "modfit1 = Holt(np.asarray(train[col_data])).fit(optimized=True)\n",
    "test[col_pred1] = modfit1.forecast(len(test))\n",
    "d= dict(MSE= tools.eval_measures.mse(test[col_data], test[col_pred1], axis=0),\n",
    "       MAPE= mape(test[col_data], test[col_pred1]),\n",
    "       AIC= modfit1.aic)\n",
    "results= pd.DataFrame(data=d, index= [col_pred1])"
   ]
  },
  {
   "cell_type": "code",
   "execution_count": 52,
   "metadata": {},
   "outputs": [],
   "source": [
    "col_pred2 = 'Holt2'\n",
    "modfit2 = Holt(np.asarray(train[col_data])).fit(smoothing_level = 0.8, smoothing_slope = 0.1)\n",
    "test[col_pred2] = modfit2.forecast(len(test))\n",
    "results.loc[col_pred2]= pd.Series([tools.eval_measures.mse(test[col_data], test[col_pred2], axis=0),\n",
    "                                  mape(test[col_data], test[col_pred2]),\n",
    "                                  modfit2.aic],\n",
    "                                 ['MSE', 'MAPE', 'AIC'])\n",
    "#results.loc['Holt2'] = pd.Series([tools.eval_measures.mse(test.metal, test.Holt2, axis=0), modfit2.aic], ['MSE', 'aic'])"
   ]
  },
  {
   "cell_type": "code",
   "execution_count": 53,
   "metadata": {},
   "outputs": [],
   "source": [
    "col_pred3= 'Holt3'\n",
    "modfit3 = Holt(np.asarray(train[col_data])).fit(smoothing_level = 0.2, smoothing_slope = 0.1)\n",
    "test[col_pred3] = modfit3.forecast(len(test))\n",
    "results.loc[col_pred3]= pd.Series([tools.eval_measures.mse(test[col_data], test[col_pred3], axis=0),\n",
    "                                  mape(test[col_data], test[col_pred3]),\n",
    "                                  modfit3.aic],\n",
    "                                 ['MSE', 'MAPE', 'AIC'])\n",
    "#results.loc['Holt3'] = pd.Series([tools.eval_measures.mse(test.metal, test.Holt3, axis=0), modfit3.aic], ['MSE', 'aic'])"
   ]
  },
  {
   "cell_type": "code",
   "execution_count": 54,
   "metadata": {},
   "outputs": [],
   "source": [
    "col_pred4= 'Holt4'\n",
    "modfit4 = Holt(np.asarray(train[col_data]), exponential= True).fit(smoothing_level = 0.8, smoothing_slope = 0.1)\n",
    "test[col_pred4] = modfit4.forecast(len(test))\n",
    "results.loc[col_pred4]= pd.Series([tools.eval_measures.mse(test[col_data], test[col_pred4], axis=0),\n",
    "                                  mape(test[col_data], test[col_pred4]),\n",
    "                                  modfit4.aic],\n",
    "                                 ['MSE', 'MAPE', 'AIC'])\n",
    "#results.loc['Holt4'] = pd.Series([tools.eval_measures.mse(test.metal, test.Holt4, axis=0), modfit4.aic], ['MSE', 'aic'])"
   ]
  },
  {
   "cell_type": "code",
   "execution_count": 55,
   "metadata": {},
   "outputs": [
    {
     "data": {
      "text/html": [
       "<div>\n",
       "<style scoped>\n",
       "    .dataframe tbody tr th:only-of-type {\n",
       "        vertical-align: middle;\n",
       "    }\n",
       "\n",
       "    .dataframe tbody tr th {\n",
       "        vertical-align: top;\n",
       "    }\n",
       "\n",
       "    .dataframe thead th {\n",
       "        text-align: right;\n",
       "    }\n",
       "</style>\n",
       "<table border=\"1\" class=\"dataframe\">\n",
       "  <thead>\n",
       "    <tr style=\"text-align: right;\">\n",
       "      <th></th>\n",
       "      <th>MSE</th>\n",
       "      <th>MAPE</th>\n",
       "      <th>AIC</th>\n",
       "    </tr>\n",
       "  </thead>\n",
       "  <tbody>\n",
       "    <tr>\n",
       "      <th>Holt1</th>\n",
       "      <td>3.318038</td>\n",
       "      <td>2.766334</td>\n",
       "      <td>-41.762318</td>\n",
       "    </tr>\n",
       "    <tr>\n",
       "      <th>Holt2</th>\n",
       "      <td>5.259479</td>\n",
       "      <td>3.649975</td>\n",
       "      <td>-39.636255</td>\n",
       "    </tr>\n",
       "    <tr>\n",
       "      <th>Holt3</th>\n",
       "      <td>7.347389</td>\n",
       "      <td>4.570976</td>\n",
       "      <td>2.171113</td>\n",
       "    </tr>\n",
       "    <tr>\n",
       "      <th>Holt4</th>\n",
       "      <td>5.584062</td>\n",
       "      <td>3.779930</td>\n",
       "      <td>-39.972671</td>\n",
       "    </tr>\n",
       "    <tr>\n",
       "      <th>Holt5</th>\n",
       "      <td>3.694916</td>\n",
       "      <td>2.950687</td>\n",
       "      <td>-37.976795</td>\n",
       "    </tr>\n",
       "  </tbody>\n",
       "</table>\n",
       "</div>"
      ],
      "text/plain": [
       "            MSE      MAPE        AIC\n",
       "Holt1  3.318038  2.766334 -41.762318\n",
       "Holt2  5.259479  3.649975 -39.636255\n",
       "Holt3  7.347389  4.570976   2.171113\n",
       "Holt4  5.584062  3.779930 -39.972671\n",
       "Holt5  3.694916  2.950687 -37.976795"
      ]
     },
     "execution_count": 55,
     "metadata": {},
     "output_type": "execute_result"
    }
   ],
   "source": [
    "col_pred5= 'Holt5'\n",
    "modfit5 = Holt(np.asarray(train[col_data]), damped= True).fit(smoothing_level = 0.8, smoothing_slope = 0.1)\n",
    "test[col_pred5] = modfit5.forecast(len(test))\n",
    "results.loc[col_pred5]= pd.Series([tools.eval_measures.mse(test[col_data], test[col_pred5], axis=0),\n",
    "                                  mape(test[col_data], test[col_pred5]),\n",
    "                                  modfit5.aic],\n",
    "                                 ['MSE', 'MAPE', 'AIC'])\n",
    "#results.loc['Holt5'] = pd.Series([tools.eval_measures.mse(test.metal, test.Holt5, axis=0), modfit5.aic], ['MSE', 'aic'])\n",
    "results"
   ]
  },
  {
   "cell_type": "code",
   "execution_count": 56,
   "metadata": {},
   "outputs": [
    {
     "data": {
      "text/html": [
       "<table class=\"simpletable\">\n",
       "<caption>Holt Model Results</caption>\n",
       "<tr>\n",
       "  <th>Dep. Variable:</th>      <td>endog</td>  <th>  No. Observations:  </th>        <td>54</td>       \n",
       "</tr>\n",
       "<tr>\n",
       "  <th>Model:</th>              <td>Holt</td>   <th>  SSE                </th>      <td>21.487</td>     \n",
       "</tr>\n",
       "<tr>\n",
       "  <th>Optimized:</th>          <td>True</td>   <th>  AIC                </th>      <td>-41.762</td>    \n",
       "</tr>\n",
       "<tr>\n",
       "  <th>Trend:</th>            <td>Additive</td> <th>  BIC                </th>      <td>-33.806</td>    \n",
       "</tr>\n",
       "<tr>\n",
       "  <th>Seasonal:</th>           <td>None</td>   <th>  AICC               </th>      <td>-39.975</td>    \n",
       "</tr>\n",
       "<tr>\n",
       "  <th>Seasonal Periods:</th>   <td>None</td>   <th>  Date:              </th> <td>Sun, 26 Apr 2020</td>\n",
       "</tr>\n",
       "<tr>\n",
       "  <th>Box-Cox:</th>            <td>False</td>  <th>  Time:              </th>     <td>10:26:02</td>    \n",
       "</tr>\n",
       "<tr>\n",
       "  <th>Box-Cox Coeff.:</th>     <td>None</td>   <th>                     </th>         <td> </td>       \n",
       "</tr>\n",
       "</table>\n",
       "<table class=\"simpletable\">\n",
       "<tr>\n",
       "         <td></td>                 <th>coeff</th>                <th>code</th>               <th>optimized</th>     \n",
       "</tr>\n",
       "<tr>\n",
       "  <th>smoothing_level</th> <td>           0.9747111</td> <td>               alpha</td> <td>                True</td>\n",
       "</tr>\n",
       "<tr>\n",
       "  <th>smoothing_slope</th> <td>            0.000000</td> <td>                beta</td> <td>                True</td>\n",
       "</tr>\n",
       "<tr>\n",
       "  <th>initial_level</th>   <td>           44.072901</td> <td>                 l.0</td> <td>                True</td>\n",
       "</tr>\n",
       "<tr>\n",
       "  <th>initial_slope</th>   <td>           0.1263945</td> <td>                 b.0</td> <td>                True</td>\n",
       "</tr>\n",
       "</table>"
      ],
      "text/plain": [
       "<class 'statsmodels.iolib.summary.Summary'>\n",
       "\"\"\"\n",
       "                              Holt Model Results                              \n",
       "==============================================================================\n",
       "Dep. Variable:                  endog   No. Observations:                   54\n",
       "Model:                           Holt   SSE                             21.487\n",
       "Optimized:                       True   AIC                            -41.762\n",
       "Trend:                       Additive   BIC                            -33.806\n",
       "Seasonal:                        None   AICC                           -39.975\n",
       "Seasonal Periods:                None   Date:                 Sun, 26 Apr 2020\n",
       "Box-Cox:                        False   Time:                         10:26:02\n",
       "Box-Cox Coeff.:                  None                                         \n",
       "==============================================================================\n",
       "                       coeff                 code              optimized      \n",
       "------------------------------------------------------------------------------\n",
       "smoothing_level            0.9747111                alpha                 True\n",
       "smoothing_slope             0.000000                 beta                 True\n",
       "initial_level              44.072901                  l.0                 True\n",
       "initial_slope              0.1263945                  b.0                 True\n",
       "------------------------------------------------------------------------------\n",
       "\"\"\""
      ]
     },
     "execution_count": 56,
     "metadata": {},
     "output_type": "execute_result"
    }
   ],
   "source": [
    "modfit1.summary()"
   ]
  },
  {
   "cell_type": "code",
   "execution_count": 57,
   "metadata": {},
   "outputs": [
    {
     "data": {
      "text/plain": [
       "<matplotlib.legend.Legend at 0x1d4ba67e108>"
      ]
     },
     "execution_count": 57,
     "metadata": {},
     "output_type": "execute_result"
    },
    {
     "data": {
      "image/png": "[encoded data removed]",
      "text/plain": [
       "<Figure size 1080x360 with 1 Axes>"
      ]
     },
     "metadata": {
      "needs_background": "light"
     },
     "output_type": "display_data"
    }
   ],
   "source": [
    "fig, ax = plt.subplots(figsize=(15,5))\n",
    "ax.plot(train[col_data], label= 'Train')\n",
    "ax.plot(test[col_data], label= 'Test')\n",
    "ax.plot(test[col_pred1], label= col_pred1)\n",
    "ax.set_title(\"Holt's Linear Trend method\")\n",
    "ax.legend(loc= 'best')"
   ]
  },
  {
   "cell_type": "code",
   "execution_count": 58,
   "metadata": {},
   "outputs": [],
   "source": [
    "cresults.loc[col_pred1] = pd.Series([tools.eval_measures.mse(test[col_data], test[col_pred1], axis=0), \n",
    "                                    mape(test[col_data], test[col_pred1])], \n",
    "                                   ['MSE', 'MAPE'])"
   ]
  },
  {
   "cell_type": "markdown",
   "metadata": {},
   "source": [
    "## [ARIMA: Autoregressive Integrated Moving Average](https://towardsdatascience.com/implementing-time-series-arima-38fd77fc1d79)"
   ]
  },
  {
   "cell_type": "code",
   "execution_count": 40,
   "metadata": {},
   "outputs": [
    {
     "data": {
      "image/png": "[encoded data removed]",
      "text/plain": [
       "<Figure size 720x576 with 3 Axes>"
      ]
     },
     "metadata": {
      "needs_background": "light"
     },
     "output_type": "display_data"
    }
   ],
   "source": [
    "# order of differencing, d, using auto correlation\n",
    "col_data = 'metal' # train column\n",
    "fig, (ax0, ax1, ax2) = plt.subplots(3, 1, figsize= (10,8))\n",
    "fig= plot_acf(train[col_data], ax= ax0, title= 'Autocorrelation on Original Series')   # series.squeeze()\n",
    "fig= plot_acf(train[col_data].diff().dropna(), ax= ax1, title= '1st order differencing')\n",
    "fig= plot_acf(train[col_data].diff().diff().dropna(), ax= ax2, title= '2st order differencing')\n",
    "# q= lag significativa na diferenciação que leva a uma série estacionária"
   ]
  },
  {
   "cell_type": "code",
   "execution_count": 41,
   "metadata": {},
   "outputs": [
    {
     "data": {
      "image/png": "[encoded data removed]",
      "text/plain": [
       "<Figure size 720x216 with 1 Axes>"
      ]
     },
     "metadata": {
      "needs_background": "light"
     },
     "output_type": "display_data"
    }
   ],
   "source": [
    "# order of AR, p, using partial autocorrelation  # d obtido na celula acima\n",
    "fig, ax1 = plt.subplots(figsize=(10,3))\n",
    "#fig = plot_pacf(train[col_data], ax= ax1, lags= 20)\n",
    "fig = plot_pacf(train[col_data].diff().dropna(), ax= ax1, lags= 20)          # d= 1\n",
    "#fig = plot_pacf(train[col_data].diff().diff().dropna(), ax= ax1, lags= 20)"
   ]
  },
  {
   "cell_type": "markdown",
   "metadata": {},
   "source": [
    "### Py auto.arima - pmdarima\n",
    "<https://github.com/alkaline-ml/pmdarima>"
   ]
  },
  {
   "cell_type": "code",
   "execution_count": 42,
   "metadata": {},
   "outputs": [
    {
     "data": {
      "text/html": [
       "<table class=\"simpletable\">\n",
       "<caption>SARIMAX Results</caption>\n",
       "<tr>\n",
       "  <th>Dep. Variable:</th>           <td>y</td>        <th>  No. Observations:  </th>   <td>54</td>   \n",
       "</tr>\n",
       "<tr>\n",
       "  <th>Model:</th>           <td>SARIMAX(0, 1, 0)</td> <th>  Log Likelihood     </th> <td>-51.298</td>\n",
       "</tr>\n",
       "<tr>\n",
       "  <th>Date:</th>            <td>Sun, 26 Apr 2020</td> <th>  AIC                </th> <td>106.596</td>\n",
       "</tr>\n",
       "<tr>\n",
       "  <th>Time:</th>                <td>09:58:48</td>     <th>  BIC                </th> <td>110.537</td>\n",
       "</tr>\n",
       "<tr>\n",
       "  <th>Sample:</th>                  <td>0</td>        <th>  HQIC               </th> <td>108.112</td>\n",
       "</tr>\n",
       "<tr>\n",
       "  <th></th>                       <td> - 54</td>      <th>                     </th>    <td> </td>   \n",
       "</tr>\n",
       "<tr>\n",
       "  <th>Covariance Type:</th>        <td>opg</td>       <th>                     </th>    <td> </td>   \n",
       "</tr>\n",
       "</table>\n",
       "<table class=\"simpletable\">\n",
       "<tr>\n",
       "      <td></td>         <th>coef</th>     <th>std err</th>      <th>z</th>      <th>P>|z|</th>  <th>[0.025</th>    <th>0.975]</th>  \n",
       "</tr>\n",
       "<tr>\n",
       "  <th>intercept</th> <td>    0.1264</td> <td>    0.088</td> <td>    1.444</td> <td> 0.149</td> <td>   -0.045</td> <td>    0.298</td>\n",
       "</tr>\n",
       "<tr>\n",
       "  <th>sigma2</th>    <td>    0.4057</td> <td>    0.065</td> <td>    6.278</td> <td> 0.000</td> <td>    0.279</td> <td>    0.532</td>\n",
       "</tr>\n",
       "</table>\n",
       "<table class=\"simpletable\">\n",
       "<tr>\n",
       "  <th>Ljung-Box (Q):</th>          <td>38.17</td> <th>  Jarque-Bera (JB):  </th> <td>2.12</td> \n",
       "</tr>\n",
       "<tr>\n",
       "  <th>Prob(Q):</th>                <td>0.55</td>  <th>  Prob(JB):          </th> <td>0.35</td> \n",
       "</tr>\n",
       "<tr>\n",
       "  <th>Heteroskedasticity (H):</th> <td>0.28</td>  <th>  Skew:              </th> <td>-0.04</td>\n",
       "</tr>\n",
       "<tr>\n",
       "  <th>Prob(H) (two-sided):</th>    <td>0.01</td>  <th>  Kurtosis:          </th> <td>3.98</td> \n",
       "</tr>\n",
       "</table><br/><br/>Warnings:<br/>[1] Covariance matrix calculated using the outer product of gradients (complex-step)."
      ],
      "text/plain": [
       "<class 'statsmodels.iolib.summary.Summary'>\n",
       "\"\"\"\n",
       "                               SARIMAX Results                                \n",
       "==============================================================================\n",
       "Dep. Variable:                      y   No. Observations:                   54\n",
       "Model:               SARIMAX(0, 1, 0)   Log Likelihood                 -51.298\n",
       "Date:                Sun, 26 Apr 2020   AIC                            106.596\n",
       "Time:                        09:58:48   BIC                            110.537\n",
       "Sample:                             0   HQIC                           108.112\n",
       "                                 - 54                                         \n",
       "Covariance Type:                  opg                                         \n",
       "==============================================================================\n",
       "                 coef    std err          z      P>|z|      [0.025      0.975]\n",
       "------------------------------------------------------------------------------\n",
       "intercept      0.1264      0.088      1.444      0.149      -0.045       0.298\n",
       "sigma2         0.4057      0.065      6.278      0.000       0.279       0.532\n",
       "===================================================================================\n",
       "Ljung-Box (Q):                       38.17   Jarque-Bera (JB):                 2.12\n",
       "Prob(Q):                              0.55   Prob(JB):                         0.35\n",
       "Heteroskedasticity (H):               0.28   Skew:                            -0.04\n",
       "Prob(H) (two-sided):                  0.01   Kurtosis:                         3.98\n",
       "===================================================================================\n",
       "\n",
       "Warnings:\n",
       "[1] Covariance matrix calculated using the outer product of gradients (complex-step).\n",
       "\"\"\""
      ]
     },
     "execution_count": 42,
     "metadata": {},
     "output_type": "execute_result"
    }
   ],
   "source": [
    "pm_model = pm.auto_arima(train[col_data], d=1, start_p=0, start_q=0, max_p=20, max_q=12, test='adf', seasonal= False, \n",
    "                         error_action= 'ignore', suppress_warnings= True, stepwise=True)\n",
    "pm_model.summary()"
   ]
  },
  {
   "cell_type": "code",
   "execution_count": 44,
   "metadata": {},
   "outputs": [
    {
     "name": "stderr",
     "output_type": "stream",
     "text": [
      "c:\\users\\marce\\appdata\\local\\programs\\python\\python37\\lib\\site-packages\\statsmodels\\tsa\\base\\tsa_model.py:162: ValueWarning: No frequency information was provided, so inferred frequency MS will be used.\n",
      "  % freq, ValueWarning)\n",
      "c:\\users\\marce\\appdata\\local\\programs\\python\\python37\\lib\\site-packages\\statsmodels\\tsa\\base\\tsa_model.py:162: ValueWarning: No frequency information was provided, so inferred frequency MS will be used.\n",
      "  % freq, ValueWarning)\n"
     ]
    },
    {
     "data": {
      "text/html": [
       "<div>\n",
       "<style scoped>\n",
       "    .dataframe tbody tr th:only-of-type {\n",
       "        vertical-align: middle;\n",
       "    }\n",
       "\n",
       "    .dataframe tbody tr th {\n",
       "        vertical-align: top;\n",
       "    }\n",
       "\n",
       "    .dataframe thead th {\n",
       "        text-align: right;\n",
       "    }\n",
       "</style>\n",
       "<table border=\"1\" class=\"dataframe\">\n",
       "  <thead>\n",
       "    <tr style=\"text-align: right;\">\n",
       "      <th></th>\n",
       "      <th>MSE</th>\n",
       "      <th>MAPE</th>\n",
       "      <th>AIC</th>\n",
       "    </tr>\n",
       "  </thead>\n",
       "  <tbody>\n",
       "    <tr>\n",
       "      <th>ARIMA 010</th>\n",
       "      <td>2488.461138</td>\n",
       "      <td>99.747058</td>\n",
       "      <td>25.45855</td>\n",
       "    </tr>\n",
       "  </tbody>\n",
       "</table>\n",
       "</div>"
      ],
      "text/plain": [
       "                   MSE       MAPE       AIC\n",
       "ARIMA 010  2488.461138  99.747058  25.45855"
      ]
     },
     "execution_count": 44,
     "metadata": {},
     "output_type": "execute_result"
    }
   ],
   "source": [
    "col_datetime = 'mes'\n",
    "startdate = '2007-07-01'\n",
    "enddate= '2007-12-01'\n",
    "col_pred1= 'ARIMA 010'\n",
    "modfit1 = tsa.ARIMA(train[col_data], dates=np.asarray(train[col_datetime]), order=(0, 1, 0)).fit()\n",
    "test[col_pred1] = modfit1.predict(start= startdate, end= enddate, dynamic=True)\n",
    "d = dict(MSE= tools.eval_measures.mse(test[col_data], test[col_pred1], axis=0),\n",
    "        MAPE= mape(test[col_data], test[col_pred1]),\n",
    "        AIC= fit1.aic)\n",
    "results= pd.DataFrame(data= d, index=[col_pred1])\n",
    "results"
   ]
  },
  {
   "cell_type": "code",
   "execution_count": 45,
   "metadata": {},
   "outputs": [
    {
     "data": {
      "text/html": [
       "<table class=\"simpletable\">\n",
       "<caption>SARIMAX Results</caption>\n",
       "<tr>\n",
       "  <th>Dep. Variable:</th>           <td>y</td>        <th>  No. Observations:  </th>   <td>54</td>   \n",
       "</tr>\n",
       "<tr>\n",
       "  <th>Model:</th>           <td>SARIMAX(1, 0, 0)</td> <th>  Log Likelihood     </th> <td>-54.716</td>\n",
       "</tr>\n",
       "<tr>\n",
       "  <th>Date:</th>            <td>Sun, 26 Apr 2020</td> <th>  AIC                </th> <td>115.431</td>\n",
       "</tr>\n",
       "<tr>\n",
       "  <th>Time:</th>                <td>10:11:59</td>     <th>  BIC                </th> <td>121.398</td>\n",
       "</tr>\n",
       "<tr>\n",
       "  <th>Sample:</th>                  <td>0</td>        <th>  HQIC               </th> <td>117.732</td>\n",
       "</tr>\n",
       "<tr>\n",
       "  <th></th>                       <td> - 54</td>      <th>                     </th>    <td> </td>   \n",
       "</tr>\n",
       "<tr>\n",
       "  <th>Covariance Type:</th>        <td>opg</td>       <th>                     </th>    <td> </td>   \n",
       "</tr>\n",
       "</table>\n",
       "<table class=\"simpletable\">\n",
       "<tr>\n",
       "      <td></td>         <th>coef</th>     <th>std err</th>      <th>z</th>      <th>P>|z|</th>  <th>[0.025</th>    <th>0.975]</th>  \n",
       "</tr>\n",
       "<tr>\n",
       "  <th>intercept</th> <td>    0.8747</td> <td>    1.030</td> <td>    0.849</td> <td> 0.396</td> <td>   -1.143</td> <td>    2.893</td>\n",
       "</tr>\n",
       "<tr>\n",
       "  <th>ar.L1</th>     <td>    0.9813</td> <td>    0.022</td> <td>   43.821</td> <td> 0.000</td> <td>    0.937</td> <td>    1.025</td>\n",
       "</tr>\n",
       "<tr>\n",
       "  <th>sigma2</th>    <td>    0.4180</td> <td>    0.069</td> <td>    6.029</td> <td> 0.000</td> <td>    0.282</td> <td>    0.554</td>\n",
       "</tr>\n",
       "</table>\n",
       "<table class=\"simpletable\">\n",
       "<tr>\n",
       "  <th>Ljung-Box (Q):</th>          <td>46.28</td> <th>  Jarque-Bera (JB):  </th> <td>1.64</td> \n",
       "</tr>\n",
       "<tr>\n",
       "  <th>Prob(Q):</th>                <td>0.23</td>  <th>  Prob(JB):          </th> <td>0.44</td> \n",
       "</tr>\n",
       "<tr>\n",
       "  <th>Heteroskedasticity (H):</th> <td>0.40</td>  <th>  Skew:              </th> <td>-0.12</td>\n",
       "</tr>\n",
       "<tr>\n",
       "  <th>Prob(H) (two-sided):</th>    <td>0.06</td>  <th>  Kurtosis:          </th> <td>3.82</td> \n",
       "</tr>\n",
       "</table><br/><br/>Warnings:<br/>[1] Covariance matrix calculated using the outer product of gradients (complex-step)."
      ],
      "text/plain": [
       "<class 'statsmodels.iolib.summary.Summary'>\n",
       "\"\"\"\n",
       "                               SARIMAX Results                                \n",
       "==============================================================================\n",
       "Dep. Variable:                      y   No. Observations:                   54\n",
       "Model:               SARIMAX(1, 0, 0)   Log Likelihood                 -54.716\n",
       "Date:                Sun, 26 Apr 2020   AIC                            115.431\n",
       "Time:                        10:11:59   BIC                            121.398\n",
       "Sample:                             0   HQIC                           117.732\n",
       "                                 - 54                                         \n",
       "Covariance Type:                  opg                                         \n",
       "==============================================================================\n",
       "                 coef    std err          z      P>|z|      [0.025      0.975]\n",
       "------------------------------------------------------------------------------\n",
       "intercept      0.8747      1.030      0.849      0.396      -1.143       2.893\n",
       "ar.L1          0.9813      0.022     43.821      0.000       0.937       1.025\n",
       "sigma2         0.4180      0.069      6.029      0.000       0.282       0.554\n",
       "===================================================================================\n",
       "Ljung-Box (Q):                       46.28   Jarque-Bera (JB):                 1.64\n",
       "Prob(Q):                              0.23   Prob(JB):                         0.44\n",
       "Heteroskedasticity (H):               0.40   Skew:                            -0.12\n",
       "Prob(H) (two-sided):                  0.06   Kurtosis:                         3.82\n",
       "===================================================================================\n",
       "\n",
       "Warnings:\n",
       "[1] Covariance matrix calculated using the outer product of gradients (complex-step).\n",
       "\"\"\""
      ]
     },
     "execution_count": 45,
     "metadata": {},
     "output_type": "execute_result"
    }
   ],
   "source": [
    "# paramentros para d= 0\n",
    "pm_model = pm.auto_arima(train[col_data], d=0, start_p=0, start_q=0, max_p=20, max_q=12, test='adf', seasonal= False, \n",
    "                         error_action= 'ignore', suppress_warnings= True, stepwise=True)\n",
    "pm_model.summary()"
   ]
  },
  {
   "cell_type": "code",
   "execution_count": 46,
   "metadata": {},
   "outputs": [
    {
     "name": "stderr",
     "output_type": "stream",
     "text": [
      "c:\\users\\marce\\appdata\\local\\programs\\python\\python37\\lib\\site-packages\\statsmodels\\tsa\\base\\tsa_model.py:162: ValueWarning: No frequency information was provided, so inferred frequency MS will be used.\n",
      "  % freq, ValueWarning)\n",
      "c:\\users\\marce\\appdata\\local\\programs\\python\\python37\\lib\\site-packages\\statsmodels\\tsa\\kalmanf\\kalmanfilter.py:220: RuntimeWarning: divide by zero encountered in true_divide\n",
      "  Z_mat, R_mat, T_mat)\n"
     ]
    },
    {
     "data": {
      "text/html": [
       "<div>\n",
       "<style scoped>\n",
       "    .dataframe tbody tr th:only-of-type {\n",
       "        vertical-align: middle;\n",
       "    }\n",
       "\n",
       "    .dataframe tbody tr th {\n",
       "        vertical-align: top;\n",
       "    }\n",
       "\n",
       "    .dataframe thead th {\n",
       "        text-align: right;\n",
       "    }\n",
       "</style>\n",
       "<table border=\"1\" class=\"dataframe\">\n",
       "  <thead>\n",
       "    <tr style=\"text-align: right;\">\n",
       "      <th></th>\n",
       "      <th>MSE</th>\n",
       "      <th>MAPE</th>\n",
       "      <th>AIC</th>\n",
       "    </tr>\n",
       "  </thead>\n",
       "  <tbody>\n",
       "    <tr>\n",
       "      <th>ARIMA 010</th>\n",
       "      <td>2488.461138</td>\n",
       "      <td>99.747058</td>\n",
       "      <td>25.458550</td>\n",
       "    </tr>\n",
       "    <tr>\n",
       "      <th>ARIMA 100</th>\n",
       "      <td>1.281366</td>\n",
       "      <td>1.626056</td>\n",
       "      <td>115.431208</td>\n",
       "    </tr>\n",
       "  </tbody>\n",
       "</table>\n",
       "</div>"
      ],
      "text/plain": [
       "                   MSE       MAPE         AIC\n",
       "ARIMA 010  2488.461138  99.747058   25.458550\n",
       "ARIMA 100     1.281366   1.626056  115.431208"
      ]
     },
     "execution_count": 46,
     "metadata": {},
     "output_type": "execute_result"
    }
   ],
   "source": [
    "col_pred2= 'ARIMA 100'\n",
    "modfit2 = tsa.ARIMA(train[col_data], dates=np.asarray(train[col_datetime]), order=(1, 0, 0)).fit()\n",
    "test[col_pred2] = modfit2.predict(start= startdate, end= enddate, dynamic=True)\n",
    "results.loc[col_pred2] = pd.Series([tools.eval_measures.mse(test[col_data], test[col_pred2], axis=0),\n",
    "                                   mape(test[col_data], test[col_pred2]),\n",
    "                                   modfit2.aic],\n",
    "                                  ['MSE', 'MAPE', 'AIC'])\n",
    "results"
   ]
  },
  {
   "cell_type": "code",
   "execution_count": 47,
   "metadata": {},
   "outputs": [
    {
     "name": "stdout",
     "output_type": "stream",
     "text": [
      "                              ARMA Model Results                              \n",
      "==============================================================================\n",
      "Dep. Variable:                  metal   No. Observations:                   54\n",
      "Model:                     ARMA(1, 0)   Log Likelihood                 -54.716\n",
      "Method:                       css-mle   S.D. of innovations              0.647\n",
      "Date:                Sun, 26 Apr 2020   AIC                            115.431\n",
      "Time:                        10:19:57   BIC                            121.398\n",
      "Sample:                    01-01-2003   HQIC                           117.732\n",
      "                         - 06-01-2007                                         \n",
      "===============================================================================\n",
      "                  coef    std err          z      P>|z|      [0.025      0.975]\n",
      "-------------------------------------------------------------------------------\n",
      "const          46.7363      2.796     16.714      0.000      41.256      52.217\n",
      "ar.L1.metal     0.9812      0.020     50.036      0.000       0.943       1.020\n",
      "                                    Roots                                    \n",
      "=============================================================================\n",
      "                  Real          Imaginary           Modulus         Frequency\n",
      "-----------------------------------------------------------------------------\n",
      "AR.1            1.0191           +0.0000j            1.0191            0.0000\n",
      "-----------------------------------------------------------------------------\n"
     ]
    }
   ],
   "source": [
    "print(modfit2.summary())"
   ]
  },
  {
   "cell_type": "code",
   "execution_count": 48,
   "metadata": {},
   "outputs": [
    {
     "data": {
      "text/plain": [
       "<matplotlib.legend.Legend at 0x1d4ba642988>"
      ]
     },
     "execution_count": 48,
     "metadata": {},
     "output_type": "execute_result"
    },
    {
     "data": {
      "image/png": "[encoded data removed]",
      "text/plain": [
       "<Figure size 1080x360 with 1 Axes>"
      ]
     },
     "metadata": {
      "needs_background": "light"
     },
     "output_type": "display_data"
    }
   ],
   "source": [
    "fig, ax = plt.subplots(figsize=(15,5))\n",
    "ax.plot(train[col_data], label= 'Train')\n",
    "ax.plot(test[col_data], label= 'Test')\n",
    "ax.plot(test[col_pred2], label= col_pred2)\n",
    "ax.set_title('ARIMA')\n",
    "ax.legend(loc= 'best')"
   ]
  },
  {
   "cell_type": "code",
   "execution_count": 49,
   "metadata": {},
   "outputs": [],
   "source": [
    "cresults.loc[col_pred2] = pd.Series([tools.eval_measures.mse(test[col_data], test[col_pred2], axis=0), \n",
    "                                    mape(test[col_data], test[col_pred2])], \n",
    "                                   ['MSE', 'MAPE'])"
   ]
  },
  {
   "cell_type": "markdown",
   "metadata": {},
   "source": [
    "## Comparativo dos Modelos"
   ]
  },
  {
   "cell_type": "code",
   "execution_count": 59,
   "metadata": {},
   "outputs": [
    {
     "data": {
      "text/html": [
       "<div>\n",
       "<style scoped>\n",
       "    .dataframe tbody tr th:only-of-type {\n",
       "        vertical-align: middle;\n",
       "    }\n",
       "\n",
       "    .dataframe tbody tr th {\n",
       "        vertical-align: top;\n",
       "    }\n",
       "\n",
       "    .dataframe thead th {\n",
       "        text-align: right;\n",
       "    }\n",
       "</style>\n",
       "<table border=\"1\" class=\"dataframe\">\n",
       "  <thead>\n",
       "    <tr style=\"text-align: right;\">\n",
       "      <th></th>\n",
       "      <th>MSE</th>\n",
       "      <th>MAPE</th>\n",
       "    </tr>\n",
       "  </thead>\n",
       "  <tbody>\n",
       "    <tr>\n",
       "      <th>moving avarage</th>\n",
       "      <td>1.674444</td>\n",
       "      <td>1.860326</td>\n",
       "    </tr>\n",
       "    <tr>\n",
       "      <th>SES1</th>\n",
       "      <td>1.088592</td>\n",
       "      <td>1.842169</td>\n",
       "    </tr>\n",
       "    <tr>\n",
       "      <th>ARIMA 100</th>\n",
       "      <td>1.281366</td>\n",
       "      <td>1.626056</td>\n",
       "    </tr>\n",
       "    <tr>\n",
       "      <th>Holt1</th>\n",
       "      <td>3.318038</td>\n",
       "      <td>2.766334</td>\n",
       "    </tr>\n",
       "  </tbody>\n",
       "</table>\n",
       "</div>"
      ],
      "text/plain": [
       "                     MSE      MAPE\n",
       "moving avarage  1.674444  1.860326\n",
       "SES1            1.088592  1.842169\n",
       "ARIMA 100       1.281366  1.626056\n",
       "Holt1           3.318038  2.766334"
      ]
     },
     "execution_count": 59,
     "metadata": {},
     "output_type": "execute_result"
    }
   ],
   "source": [
    "cresults"
   ]
  },
  {
   "cell_type": "markdown",
   "metadata": {},
   "source": [
    "### Suavisação Exponencial Simples teve o menor erro\n",
    "### ARIMA mostrou com mais clareza a tendência de invesão e baixa da série"
   ]
  },
  {
   "cell_type": "code",
   "execution_count": null,
   "metadata": {},
   "outputs": [],
   "source": []
  }
 ],
 "metadata": {
  "kernelspec": {
   "display_name": "Python 3",
   "language": "python",
   "name": "python3"
  },
  "language_info": {
   "codemirror_mode": {
    "name": "ipython",
    "version": 3
   },
   "file_extension": ".py",
   "mimetype": "text/x-python",
   "name": "python",
   "nbconvert_exporter": "python",
   "pygments_lexer": "ipython3",
   "version": "3.7.4"
  }
 },
 "nbformat": 4,
 "nbformat_minor": 2
}
