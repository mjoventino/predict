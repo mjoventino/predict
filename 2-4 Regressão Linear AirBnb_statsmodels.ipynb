{
 "cells": [
  {
   "cell_type": "code",
   "execution_count": 1,
   "metadata": {},
   "outputs": [],
   "source": [
    "import numpy as np\n",
    "import pandas as pd\n",
    "import matplotlib.pyplot as plt\n",
    "import seaborn as sns"
   ]
  },
  {
   "cell_type": "code",
   "execution_count": 2,
   "metadata": {},
   "outputs": [],
   "source": [
    "import statsmodels.api as sm"
   ]
  },
  {
   "cell_type": "code",
   "execution_count": 3,
   "metadata": {},
   "outputs": [
    {
     "data": {
      "text/html": [
       "<div>\n",
       "<style scoped>\n",
       "    .dataframe tbody tr th:only-of-type {\n",
       "        vertical-align: middle;\n",
       "    }\n",
       "\n",
       "    .dataframe tbody tr th {\n",
       "        vertical-align: top;\n",
       "    }\n",
       "\n",
       "    .dataframe thead th {\n",
       "        text-align: right;\n",
       "    }\n",
       "</style>\n",
       "<table border=\"1\" class=\"dataframe\">\n",
       "  <thead>\n",
       "    <tr style=\"text-align: right;\">\n",
       "      <th></th>\n",
       "      <th>ID</th>\n",
       "      <th>ID da hospedagem</th>\n",
       "      <th>Nome da hospedagem</th>\n",
       "      <th>ID do Hospede</th>\n",
       "      <th>Nome do Hospede</th>\n",
       "      <th>Grupo de vizinhança</th>\n",
       "      <th>latitude</th>\n",
       "      <th>longitude</th>\n",
       "      <th>Tipo de hospedagem</th>\n",
       "      <th>Preço</th>\n",
       "      <th>locação mínima</th>\n",
       "      <th>Número de avaliações</th>\n",
       "      <th>Taxa mesal de ocupação</th>\n",
       "      <th>Número máximo de hóspedes</th>\n",
       "      <th>Disponibilidade anual</th>\n",
       "    </tr>\n",
       "  </thead>\n",
       "  <tbody>\n",
       "    <tr>\n",
       "      <th>0</th>\n",
       "      <td>1</td>\n",
       "      <td>2539</td>\n",
       "      <td>Clean &amp; quiet apt home by the park</td>\n",
       "      <td>2787</td>\n",
       "      <td>John</td>\n",
       "      <td>Brooklyn</td>\n",
       "      <td>4064749.0</td>\n",
       "      <td>-7397237</td>\n",
       "      <td>Quarto Privativo</td>\n",
       "      <td>125</td>\n",
       "      <td>1</td>\n",
       "      <td>9</td>\n",
       "      <td>0.21</td>\n",
       "      <td>6</td>\n",
       "      <td>365</td>\n",
       "    </tr>\n",
       "    <tr>\n",
       "      <th>1</th>\n",
       "      <td>2</td>\n",
       "      <td>2595</td>\n",
       "      <td>Skylit Midtown Castle</td>\n",
       "      <td>2845</td>\n",
       "      <td>Jennifer</td>\n",
       "      <td>Manhattan</td>\n",
       "      <td>4075362.0</td>\n",
       "      <td>-7398377</td>\n",
       "      <td>Ap/Casa inteira</td>\n",
       "      <td>79</td>\n",
       "      <td>1</td>\n",
       "      <td>45</td>\n",
       "      <td>0.38</td>\n",
       "      <td>2</td>\n",
       "      <td>355</td>\n",
       "    </tr>\n",
       "    <tr>\n",
       "      <th>2</th>\n",
       "      <td>6</td>\n",
       "      <td>5099</td>\n",
       "      <td>Large Cozy 1 BR Apartment In Midtown East</td>\n",
       "      <td>7322</td>\n",
       "      <td>Chris</td>\n",
       "      <td>Manhattan</td>\n",
       "      <td>4074767.0</td>\n",
       "      <td>-73975</td>\n",
       "      <td>Ap/Casa inteira</td>\n",
       "      <td>60</td>\n",
       "      <td>3</td>\n",
       "      <td>74</td>\n",
       "      <td>0.59</td>\n",
       "      <td>1</td>\n",
       "      <td>129</td>\n",
       "    </tr>\n",
       "  </tbody>\n",
       "</table>\n",
       "</div>"
      ],
      "text/plain": [
       "   ID  ID da hospedagem                         Nome da hospedagem  \\\n",
       "0   1              2539         Clean & quiet apt home by the park   \n",
       "1   2              2595                      Skylit Midtown Castle   \n",
       "2   6              5099  Large Cozy 1 BR Apartment In Midtown East   \n",
       "\n",
       "   ID do Hospede Nome do Hospede Grupo de vizinhança   latitude  longitude  \\\n",
       "0           2787            John            Brooklyn  4064749.0   -7397237   \n",
       "1           2845        Jennifer           Manhattan  4075362.0   -7398377   \n",
       "2           7322           Chris           Manhattan  4074767.0     -73975   \n",
       "\n",
       "  Tipo de hospedagem  Preço  locação mínima  Número de avaliações  \\\n",
       "0   Quarto Privativo    125               1                     9   \n",
       "1    Ap/Casa inteira     79               1                    45   \n",
       "2    Ap/Casa inteira     60               3                    74   \n",
       "\n",
       "   Taxa mesal de ocupação  Número máximo de hóspedes  Disponibilidade anual  \n",
       "0                    0.21                          6                    365  \n",
       "1                    0.38                          2                    355  \n",
       "2                    0.59                          1                    129  "
      ]
     },
     "execution_count": 3,
     "metadata": {},
     "output_type": "execute_result"
    }
   ],
   "source": [
    "nome_arq = 'Dados airbnb - IA.xls'\n",
    "df = pd.read_excel(nome_arq)\n",
    "df.head(3)"
   ]
  },
  {
   "cell_type": "code",
   "execution_count": 5,
   "metadata": {},
   "outputs": [
    {
     "data": {
      "text/plain": [
       "Index(['ID', 'ID da hospedagem', 'Nome da hospedagem', 'ID do Hospede',\n",
       "       'Nome do Hospede', 'Grupo de vizinhança', 'latitude', 'longitude',\n",
       "       'Tipo de hospedagem', 'Preço', 'locação mínima', 'Número de avaliações',\n",
       "       'Taxa mesal de ocupação', 'Número máximo de hóspedes',\n",
       "       'Disponibilidade anual'],\n",
       "      dtype='object')"
      ]
     },
     "execution_count": 5,
     "metadata": {},
     "output_type": "execute_result"
    }
   ],
   "source": [
    "df.columns"
   ]
  },
  {
   "cell_type": "code",
   "execution_count": 6,
   "metadata": {},
   "outputs": [],
   "source": [
    "x_col = ['Preço', 'locação mínima', 'Número de avaliações',\n",
    "       'Número máximo de hóspedes',\n",
    "       'Disponibilidade anual']\n",
    "y_col = ['Taxa mesal de ocupação']\n",
    "X = df[x_col]\n",
    "y = df[y_col]"
   ]
  },
  {
   "cell_type": "code",
   "execution_count": 8,
   "metadata": {},
   "outputs": [
    {
     "data": {
      "text/plain": [
       "Index(['Preço', 'locação mínima', 'Número de avaliações',\n",
       "       'Taxa mesal de ocupação', 'Número máximo de hóspedes',\n",
       "       'Disponibilidade anual'],\n",
       "      dtype='object')"
      ]
     },
     "execution_count": 8,
     "metadata": {},
     "output_type": "execute_result"
    }
   ],
   "source": [
    "df_quant = df[['Preço', 'locação mínima', 'Número de avaliações',\n",
    "       'Taxa mesal de ocupação', 'Número máximo de hóspedes',\n",
    "       'Disponibilidade anual']]\n",
    "df_quant.columns"
   ]
  },
  {
   "cell_type": "code",
   "execution_count": 10,
   "metadata": {},
   "outputs": [
    {
     "data": {
      "text/plain": [
       "<matplotlib.axes._subplots.AxesSubplot at 0x260957be148>"
      ]
     },
     "execution_count": 10,
     "metadata": {},
     "output_type": "execute_result"
    },
    {
     "data": {
      "image/png": "[encoded data removed]",
      "text/plain": [
       "<Figure size 504x504 with 2 Axes>"
      ]
     },
     "metadata": {
      "needs_background": "light"
     },
     "output_type": "display_data"
    }
   ],
   "source": [
    "# matriz de correlação df_quant\n",
    "fig, ax = plt.subplots(figsize=(7, 7)) \n",
    "mask = np.zeros_like(df_quant.corr().abs())\n",
    "mask[np.triu_indices_from(mask)] = 1\n",
    "sns.heatmap(df_quant.corr().abs(), mask= mask, ax= ax, cmap='coolwarm', annot= True)"
   ]
  },
  {
   "cell_type": "code",
   "execution_count": 11,
   "metadata": {},
   "outputs": [
    {
     "name": "stdout",
     "output_type": "stream",
     "text": [
      "                              OLS Regression Results                              \n",
      "==================================================================================\n",
      "Dep. Variable:     Taxa mesal de ocupação   R-squared:                       0.944\n",
      "Model:                                OLS   Adj. R-squared:                  0.943\n",
      "Method:                     Least Squares   F-statistic:                     690.1\n",
      "Date:                    Thu, 23 Apr 2020   Prob (F-statistic):          4.15e-126\n",
      "Time:                            19:09:11   Log-Likelihood:                 316.28\n",
      "No. Observations:                     211   AIC:                            -620.6\n",
      "Df Residuals:                         205   BIC:                            -600.4\n",
      "Df Model:                               5                                         \n",
      "Covariance Type:                nonrobust                                         \n",
      "=============================================================================================\n",
      "                                coef    std err          t      P>|t|      [0.025      0.975]\n",
      "---------------------------------------------------------------------------------------------\n",
      "const                         0.3501      0.078      4.511      0.000       0.197       0.503\n",
      "Preço                        -0.0023      0.001     -3.852      0.000      -0.004      -0.001\n",
      "locação mínima                0.0002      0.000      0.724      0.470      -0.000       0.001\n",
      "Número de avaliações          0.0068      0.001     10.938      0.000       0.006       0.008\n",
      "Número máximo de hóspedes    -0.0006      0.001     -0.488      0.626      -0.003       0.002\n",
      "Disponibilidade anual     -2.633e-05   3.54e-05     -0.743      0.458   -9.62e-05    4.36e-05\n",
      "==============================================================================\n",
      "Omnibus:                       44.938   Durbin-Watson:                   1.824\n",
      "Prob(Omnibus):                  0.000   Jarque-Bera (JB):               71.294\n",
      "Skew:                           1.170   Prob(JB):                     3.30e-16\n",
      "Kurtosis:                       4.624   Cond. No.                     5.10e+03\n",
      "==============================================================================\n",
      "\n",
      "Warnings:\n",
      "[1] Standard Errors assume that the covariance matrix of the errors is correctly specified.\n",
      "[2] The condition number is large, 5.1e+03. This might indicate that there are\n",
      "strong multicollinearity or other numerical problems.\n"
     ]
    },
    {
     "name": "stderr",
     "output_type": "stream",
     "text": [
      "c:\\users\\marce\\appdata\\local\\programs\\python\\python37\\lib\\site-packages\\numpy\\core\\fromnumeric.py:2495: FutureWarning: Method .ptp is deprecated and will be removed in a future version. Use numpy.ptp instead.\n",
      "  return ptp(axis=axis, out=out, **kwargs)\n"
     ]
    }
   ],
   "source": [
    "X = sm.add_constant(X)\n",
    "model = sm.OLS(y, X)\n",
    "modelfit = model.fit()\n",
    "pred = modelfit.predict(X)\n",
    "print(modelfit.summary())"
   ]
  },
  {
   "cell_type": "code",
   "execution_count": 22,
   "metadata": {},
   "outputs": [],
   "source": [
    "x_col = ['Preço', 'Número de avaliações']\n",
    "X = df[x_col]"
   ]
  },
  {
   "cell_type": "code",
   "execution_count": 23,
   "metadata": {},
   "outputs": [
    {
     "name": "stdout",
     "output_type": "stream",
     "text": [
      "                              OLS Regression Results                              \n",
      "==================================================================================\n",
      "Dep. Variable:     Taxa mesal de ocupação   R-squared:                       0.944\n",
      "Model:                                OLS   Adj. R-squared:                  0.943\n",
      "Method:                     Least Squares   F-statistic:                     1737.\n",
      "Date:                    Thu, 23 Apr 2020   Prob (F-statistic):          1.57e-130\n",
      "Time:                            19:29:36   Log-Likelihood:                 315.54\n",
      "No. Observations:                     211   AIC:                            -625.1\n",
      "Df Residuals:                         208   BIC:                            -615.0\n",
      "Df Model:                               2                                         \n",
      "Covariance Type:                nonrobust                                         \n",
      "========================================================================================\n",
      "                           coef    std err          t      P>|t|      [0.025      0.975]\n",
      "----------------------------------------------------------------------------------------\n",
      "const                    0.3543      0.077      4.588      0.000       0.202       0.507\n",
      "Preço                   -0.0024      0.001     -4.009      0.000      -0.004      -0.001\n",
      "Número de avaliações     0.0067      0.001     10.926      0.000       0.006       0.008\n",
      "==============================================================================\n",
      "Omnibus:                       43.498   Durbin-Watson:                   1.808\n",
      "Prob(Omnibus):                  0.000   Jarque-Bera (JB):               67.277\n",
      "Skew:                           1.152   Prob(JB):                     2.46e-15\n",
      "Kurtosis:                       4.530   Cond. No.                     2.05e+03\n",
      "==============================================================================\n",
      "\n",
      "Warnings:\n",
      "[1] Standard Errors assume that the covariance matrix of the errors is correctly specified.\n",
      "[2] The condition number is large, 2.05e+03. This might indicate that there are\n",
      "strong multicollinearity or other numerical problems.\n"
     ]
    }
   ],
   "source": [
    "X = sm.add_constant(X)\n",
    "model = sm.OLS(y, X)\n",
    "modelfit = model.fit()\n",
    "pred = modelfit.predict(X)\n",
    "print(modelfit.summary())"
   ]
  },
  {
   "cell_type": "code",
   "execution_count": 26,
   "metadata": {},
   "outputs": [
    {
     "data": {
      "text/html": [
       "<div>\n",
       "<style scoped>\n",
       "    .dataframe tbody tr th:only-of-type {\n",
       "        vertical-align: middle;\n",
       "    }\n",
       "\n",
       "    .dataframe tbody tr th {\n",
       "        vertical-align: top;\n",
       "    }\n",
       "\n",
       "    .dataframe thead th {\n",
       "        text-align: right;\n",
       "    }\n",
       "</style>\n",
       "<table border=\"1\" class=\"dataframe\">\n",
       "  <thead>\n",
       "    <tr style=\"text-align: right;\">\n",
       "      <th></th>\n",
       "      <th>const</th>\n",
       "      <th>Preço</th>\n",
       "      <th>Número de avaliações</th>\n",
       "    </tr>\n",
       "  </thead>\n",
       "  <tbody>\n",
       "    <tr>\n",
       "      <th>0</th>\n",
       "      <td>1.0</td>\n",
       "      <td>125</td>\n",
       "      <td>9</td>\n",
       "    </tr>\n",
       "    <tr>\n",
       "      <th>1</th>\n",
       "      <td>1.0</td>\n",
       "      <td>79</td>\n",
       "      <td>45</td>\n",
       "    </tr>\n",
       "  </tbody>\n",
       "</table>\n",
       "</div>"
      ],
      "text/plain": [
       "   const  Preço  Número de avaliações\n",
       "0    1.0    125                     9\n",
       "1    1.0     79                    45"
      ]
     },
     "execution_count": 26,
     "metadata": {},
     "output_type": "execute_result"
    }
   ],
   "source": [
    "X.head(2)"
   ]
  },
  {
   "cell_type": "code",
   "execution_count": 31,
   "metadata": {},
   "outputs": [
    {
     "data": {
      "text/plain": [
       "array([0.43033917])"
      ]
     },
     "execution_count": 31,
     "metadata": {},
     "output_type": "execute_result"
    }
   ],
   "source": [
    "modelfit.predict(np.array([1,80,40]))"
   ]
  },
  {
   "cell_type": "code",
   "execution_count": 15,
   "metadata": {},
   "outputs": [
    {
     "data": {
      "text/html": [
       "<div>\n",
       "<style scoped>\n",
       "    .dataframe tbody tr th:only-of-type {\n",
       "        vertical-align: middle;\n",
       "    }\n",
       "\n",
       "    .dataframe tbody tr th {\n",
       "        vertical-align: top;\n",
       "    }\n",
       "\n",
       "    .dataframe thead th {\n",
       "        text-align: right;\n",
       "    }\n",
       "</style>\n",
       "<table border=\"1\" class=\"dataframe\">\n",
       "  <thead>\n",
       "    <tr style=\"text-align: right;\">\n",
       "      <th></th>\n",
       "      <th>ID</th>\n",
       "      <th>ID da hospedagem</th>\n",
       "      <th>Nome da hospedagem</th>\n",
       "      <th>ID do Hospede</th>\n",
       "      <th>Nome do Hospede</th>\n",
       "      <th>Grupo de vizinhança</th>\n",
       "      <th>latitude</th>\n",
       "      <th>longitude</th>\n",
       "      <th>Tipo de hospedagem</th>\n",
       "      <th>Preço</th>\n",
       "      <th>locação mínima</th>\n",
       "      <th>Número de avaliações</th>\n",
       "      <th>Taxa mesal de ocupação</th>\n",
       "      <th>Número máximo de hóspedes</th>\n",
       "      <th>Disponibilidade anual</th>\n",
       "    </tr>\n",
       "  </thead>\n",
       "  <tbody>\n",
       "    <tr>\n",
       "      <th>69</th>\n",
       "      <td>179</td>\n",
       "      <td>45393</td>\n",
       "      <td>Greenwich Village Stylish Apartment</td>\n",
       "      <td>201297</td>\n",
       "      <td>Myrna</td>\n",
       "      <td>Manhattan</td>\n",
       "      <td>4073423.0</td>\n",
       "      <td>-740046</td>\n",
       "      <td>Ap/Casa inteira</td>\n",
       "      <td>85</td>\n",
       "      <td>26</td>\n",
       "      <td>38</td>\n",
       "      <td>0.36</td>\n",
       "      <td>1</td>\n",
       "      <td>225</td>\n",
       "    </tr>\n",
       "    <tr>\n",
       "      <th>141</th>\n",
       "      <td>392</td>\n",
       "      <td>120362</td>\n",
       "      <td>Williamsburg apartment right by the subway</td>\n",
       "      <td>138069</td>\n",
       "      <td>Itamar</td>\n",
       "      <td>Brooklyn</td>\n",
       "      <td>4070665.0</td>\n",
       "      <td>-7394061</td>\n",
       "      <td>Ap/Casa inteira</td>\n",
       "      <td>75</td>\n",
       "      <td>4</td>\n",
       "      <td>50</td>\n",
       "      <td>0.51</td>\n",
       "      <td>1</td>\n",
       "      <td>331</td>\n",
       "    </tr>\n",
       "    <tr>\n",
       "      <th>104</th>\n",
       "      <td>302</td>\n",
       "      <td>69921</td>\n",
       "      <td>Brooklyn Writer's Nook</td>\n",
       "      <td>155689</td>\n",
       "      <td>Joab</td>\n",
       "      <td>Brooklyn</td>\n",
       "      <td>4070514.0</td>\n",
       "      <td>-7391922</td>\n",
       "      <td>Quarto Privativo</td>\n",
       "      <td>79</td>\n",
       "      <td>5</td>\n",
       "      <td>47</td>\n",
       "      <td>0.49</td>\n",
       "      <td>1</td>\n",
       "      <td>203</td>\n",
       "    </tr>\n",
       "    <tr>\n",
       "      <th>118</th>\n",
       "      <td>331</td>\n",
       "      <td>81739</td>\n",
       "      <td>Loft w/ Terrace @ Box House Hotel</td>\n",
       "      <td>417504</td>\n",
       "      <td>The Box House Hotel</td>\n",
       "      <td>Brooklyn</td>\n",
       "      <td>4073842.0</td>\n",
       "      <td>-7395312</td>\n",
       "      <td>Quarto Privativo</td>\n",
       "      <td>140</td>\n",
       "      <td>3</td>\n",
       "      <td>2</td>\n",
       "      <td>0.02</td>\n",
       "      <td>28</td>\n",
       "      <td>60</td>\n",
       "    </tr>\n",
       "    <tr>\n",
       "      <th>99</th>\n",
       "      <td>292</td>\n",
       "      <td>67299</td>\n",
       "      <td>Cozy Garden Apartment in Williamsburg</td>\n",
       "      <td>330347</td>\n",
       "      <td>Adrienne</td>\n",
       "      <td>Brooklyn</td>\n",
       "      <td>4071492.0</td>\n",
       "      <td>-7396282</td>\n",
       "      <td>Ap/Casa inteira</td>\n",
       "      <td>70</td>\n",
       "      <td>30</td>\n",
       "      <td>56</td>\n",
       "      <td>0.56</td>\n",
       "      <td>1</td>\n",
       "      <td>42</td>\n",
       "    </tr>\n",
       "  </tbody>\n",
       "</table>\n",
       "</div>"
      ],
      "text/plain": [
       "      ID  ID da hospedagem                          Nome da hospedagem  \\\n",
       "69   179             45393         Greenwich Village Stylish Apartment   \n",
       "141  392            120362  Williamsburg apartment right by the subway   \n",
       "104  302             69921                      Brooklyn Writer's Nook   \n",
       "118  331             81739           Loft w/ Terrace @ Box House Hotel   \n",
       "99   292             67299       Cozy Garden Apartment in Williamsburg   \n",
       "\n",
       "     ID do Hospede      Nome do Hospede Grupo de vizinhança   latitude  \\\n",
       "69          201297                Myrna           Manhattan  4073423.0   \n",
       "141         138069               Itamar            Brooklyn  4070665.0   \n",
       "104         155689                 Joab            Brooklyn  4070514.0   \n",
       "118         417504  The Box House Hotel            Brooklyn  4073842.0   \n",
       "99          330347             Adrienne            Brooklyn  4071492.0   \n",
       "\n",
       "     longitude Tipo de hospedagem  Preço  locação mínima  \\\n",
       "69     -740046    Ap/Casa inteira     85              26   \n",
       "141   -7394061    Ap/Casa inteira     75               4   \n",
       "104   -7391922   Quarto Privativo     79               5   \n",
       "118   -7395312   Quarto Privativo    140               3   \n",
       "99    -7396282    Ap/Casa inteira     70              30   \n",
       "\n",
       "     Número de avaliações  Taxa mesal de ocupação  Número máximo de hóspedes  \\\n",
       "69                     38                    0.36                          1   \n",
       "141                    50                    0.51                          1   \n",
       "104                    47                    0.49                          1   \n",
       "118                     2                    0.02                         28   \n",
       "99                     56                    0.56                          1   \n",
       "\n",
       "     Disponibilidade anual  \n",
       "69                     225  \n",
       "141                    331  \n",
       "104                    203  \n",
       "118                     60  \n",
       "99                      42  "
      ]
     },
     "execution_count": 15,
     "metadata": {},
     "output_type": "execute_result"
    }
   ],
   "source": [
    "df.sample(5)"
   ]
  },
  {
   "cell_type": "code",
   "execution_count": null,
   "metadata": {},
   "outputs": [],
   "source": []
  }
 ],
 "metadata": {
  "kernelspec": {
   "display_name": "Python 3",
   "language": "python",
   "name": "python3"
  },
  "language_info": {
   "codemirror_mode": {
    "name": "ipython",
    "version": 3
   },
   "file_extension": ".py",
   "mimetype": "text/x-python",
   "name": "python",
   "nbconvert_exporter": "python",
   "pygments_lexer": "ipython3",
   "version": "3.7.4"
  }
 },
 "nbformat": 4,
 "nbformat_minor": 2
}
